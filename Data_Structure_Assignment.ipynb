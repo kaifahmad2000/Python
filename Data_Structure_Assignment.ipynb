{
  "nbformat": 4,
  "nbformat_minor": 0,
  "metadata": {
    "colab": {
      "provenance": []
    },
    "kernelspec": {
      "name": "python3",
      "display_name": "Python 3"
    },
    "language_info": {
      "name": "python"
    }
  },
  "cells": [
    {
      "cell_type": "markdown",
      "source": [
        " 1. What are data structures, and why are they important?\n",
        " -> Data structures are specialized formats for organizing, storing and accessing collections of data. It is important because it provides efficent way to manage information based on its charateristics and inteded use.\n",
        "\n",
        " 2. Explain the difference between mutable and immutable data types with examples.\n",
        " -> Mutable means changeable, data type such as Lists and Sets allow us to modify contents after creation based on specific needs whereas immutable means unchangeable, data types such as Tuples doesn't allows us to modify contents once they are created.\n",
        " Example: my_list = [1, 2, 3]\n",
        " my_list.append(4)\n",
        "   Now my_list is [1, 2, 3, 4]\n",
        "\n",
        " my_tuple = (1, 2, 3)\n",
        " my_tuple[2]\n",
        "   Gives error.\n",
        "\n",
        " 3.  What are the main differences between lists and tuples in Python?\n",
        " -> Lists are ordered, mutable collections of elements. We can add, remove or modify elements within a list whereas Tuples are ordered, immutable collections of elements.Once created, the items in a tuple cannot be changed.\n",
        "\n",
        " 4. Describe how dictionaries store data?\n",
        " -> Data in a dictionary are stored in key value pairs, where each unique key maps to a specific value.\n",
        " Example: my_dict{\"Name\": \"Kaif\", \"Course\": \"Data Analytics\", \"Age\": 25}\n",
        "\n",
        " 5.  Why might you use a set instead of a list in Python?\n",
        " -> A set is an unordered collection of unique elements. It offers union, intersection and difference operations and is useful for checking membership(if an item exists). So, whenever we wants to apply these operations we use set instead of list.\n",
        "\n",
        " 6. What is a string in Python, and how is it different from a list?\n",
        " -> String is a sequence of characters arranged in an unchangable order. String are immutable it does not allow us to modify the elements once it is created whereas list allows us to add, replace and modify the elements after creation.\n",
        "\n",
        " 7. How do tuples ensure data integrity in Python?\n",
        " -> Tuples do not allow us to modify their elements once created. We cannot add or remove elements from a tuple which means the data once added at the time of creation remains unchanged. This immutability ensures data integrity.\n",
        "\n",
        " 8. What is a hash table, and how does it relate to dictionaries in Python?\n",
        " -> A hash table is a data structure that stores key value pairs, where each key is unique and mapped to a specific index in an array using hash function.In python, dictionaries are implemented using hash tables. When a key value pair added to a dictionary, Python calculates the hash value using its built-in hash function.\n",
        "\n",
        " 9. Can lists contain different data types in Python?\n",
        " -> Yes, lists contains different data types in python. List allows us to store ordered,mutable collection of elements.\n",
        " Example: my_list = [1, 2, 6, 'new', 'old', True]\n",
        "\n",
        " 10. Explain why strings are immutable in Python?\n",
        " -> Strings are immutable in python because it doesn't allow to add, replace or modify the elements of string once created.\n",
        "\n",
        " 11. What advantages do dictionaries offer over lists for certain tasks?\n",
        " -> Dictionaries are much faster to access in compare to lists as they  allow direct access to values using unique keys.\n",
        "\n",
        " 12. Describe a scenario where using a tuple would be preferable over a list.\n",
        " -> Tuples are useful when we don't want to change any elements in data like: Student enrollment number, employee id, coordinates on a 2D space etc.\n",
        " For example:\n",
        " point = (0,5)\n",
        " employee_id = (2013, 5019, 5478, 4701, 8704)\n",
        " If we use list instead of tuple, it can be easily manipulated and data integrity can be breached.\n",
        "\n",
        " 13. How do sets handle duplicate values in Python?\n",
        " -> Sets are unordered collection of unique elements.If duplicate values are added to a set, Python will discard the duplicate values and keep only one instance of each unique values.\n",
        "\n",
        " 14. How does the “in” keyword work differently for lists and dictionaries?\n",
        " -> The in keyword check if the value is present in the list whereas in dictionaries it checks if the key is present or not.\n",
        " For example:\n",
        " my_list = [1, 5, 10]\n",
        " 10 in my_list #True\n",
        "\n",
        " my_dict = {\"name\": \"kaif\", \"age\": 25}\n",
        " kaif in my_dict    #False (value not key)\n",
        " age in my_dict     #True\n",
        "\n",
        " 15. Can you modify the elements of a tuple? Explain why or why not?\n",
        " -> No, the elements of a tuple cannot be modified because tuples are immutable,once created cannot be modified later.\n",
        "\n",
        " 16. What is a nested dictionary, and give an example of its use case?\n",
        " -> When we add one or more values as a dictionaries inside a dictionary it is called as nested dictionary.It is used to store hierarchical data structures.\n",
        "\n",
        " 17. Describe the time complexity of accessing elements in a dictionary?\n",
        " -> As we know that python uses Hash table to store elements.Therefore its time complexity is O(1).\n",
        "\n",
        " 18. In what situations are lists preferred over dictionaries?\n",
        " -> Lists are used where order of the elements are priority, index based access and offers wide range of data manipulation techniques.\n",
        "\n",
        " 19. Why are dictionaries considered unordered, and how does that affect data retrieval?\n",
        " -> Dictionaries considered unordered because it does not maintain the order in which key value pairs inserted, dictionaries were implemented using hash table to optimize the speed which lead to return of values in arbitrary order.\n",
        "\n",
        " 20. Explain the difference between a list and a dictionary in terms of data retrieval.\n",
        " -> Data in lists can be retrive by using index while data retrieval in dictionary can be done by using key.\n",
        " For example:\n",
        " my_list = [5, 9, 8, 21, 25]\n",
        " my_dict = {\"name\": \"kaif\", \"course\": \"data analytics\", \"age\": 25}\n",
        " my_list[2]         #output: 8\n",
        " my_dict[\"age\"]     #output: 25\n",
        "\n",
        "\n"
      ],
      "metadata": {
        "id": "tC3C3VYTOQCX"
      }
    },
    {
      "cell_type": "code",
      "source": [
        "#1. Write a code to create a string with your name and print it.\n",
        "\n",
        "name = \"Kaif Shakeel\"\n",
        "print(name)"
      ],
      "metadata": {
        "colab": {
          "base_uri": "https://localhost:8080/"
        },
        "id": "Clo9NL_yWUo0",
        "outputId": "40ee774c-086a-4b4e-839d-9e519bf2d397"
      },
      "execution_count": null,
      "outputs": [
        {
          "output_type": "stream",
          "name": "stdout",
          "text": [
            "Kaif\n"
          ]
        }
      ]
    },
    {
      "cell_type": "code",
      "source": [
        "#2. Write a code to find the length of the string \"Hello World\".\n",
        "\n",
        "s = \"Hello World\"\n",
        "len(s)"
      ],
      "metadata": {
        "colab": {
          "base_uri": "https://localhost:8080/"
        },
        "id": "ZJO3nWhXWm5g",
        "outputId": "8151daf4-96d1-45cf-eb9e-c8234a44f6d7"
      },
      "execution_count": null,
      "outputs": [
        {
          "output_type": "execute_result",
          "data": {
            "text/plain": [
              "11"
            ]
          },
          "metadata": {},
          "execution_count": 6
        }
      ]
    },
    {
      "cell_type": "code",
      "source": [
        "#3. Write a code to slice the first 3 characters from the string\n",
        "#   \"Python Programming\".\n",
        "\n",
        "s = \"Python Programming\"\n",
        "s[0:3]"
      ],
      "metadata": {
        "colab": {
          "base_uri": "https://localhost:8080/",
          "height": 35
        },
        "id": "lZ8WVWKcMDDo",
        "outputId": "36e33fc0-99db-4121-c72e-7dbe016f8afe"
      },
      "execution_count": null,
      "outputs": [
        {
          "output_type": "execute_result",
          "data": {
            "text/plain": [
              "'Pyt'"
            ],
            "application/vnd.google.colaboratory.intrinsic+json": {
              "type": "string"
            }
          },
          "metadata": {},
          "execution_count": 8
        }
      ]
    },
    {
      "cell_type": "code",
      "source": [
        "#4. Write a code to convert the string \"hello\" to uppercase.\n",
        "\n",
        "string = \"hello\"\n",
        "string.upper()"
      ],
      "metadata": {
        "colab": {
          "base_uri": "https://localhost:8080/",
          "height": 35
        },
        "id": "aOeJ925cTSrI",
        "outputId": "a4d95c31-2479-4e68-d14b-70389e465646"
      },
      "execution_count": null,
      "outputs": [
        {
          "output_type": "execute_result",
          "data": {
            "text/plain": [
              "'HELLO'"
            ],
            "application/vnd.google.colaboratory.intrinsic+json": {
              "type": "string"
            }
          },
          "metadata": {},
          "execution_count": 9
        }
      ]
    },
    {
      "cell_type": "code",
      "source": [
        "#5. Write a code to replace the word \"apple\" with \"orange\" in the string\n",
        "#   \"I like apple\".\n",
        "\n",
        "string = \"I like apple\"\n",
        "string.replace(\"apple\", \"orange\")"
      ],
      "metadata": {
        "colab": {
          "base_uri": "https://localhost:8080/",
          "height": 35
        },
        "id": "4vTJioU3T2lA",
        "outputId": "5cc32bb0-6914-4441-a993-502e8bb3ed34"
      },
      "execution_count": null,
      "outputs": [
        {
          "output_type": "execute_result",
          "data": {
            "text/plain": [
              "'I like orange'"
            ],
            "application/vnd.google.colaboratory.intrinsic+json": {
              "type": "string"
            }
          },
          "metadata": {},
          "execution_count": 10
        }
      ]
    },
    {
      "cell_type": "code",
      "source": [
        "#6. Write a code to create a list with numbers 1 to 5 and print it.\n",
        "\n",
        "my_list = [1, 2, 3, 4, 5]\n",
        "print(my_list)"
      ],
      "metadata": {
        "colab": {
          "base_uri": "https://localhost:8080/"
        },
        "id": "u2tuO9fsUMdl",
        "outputId": "2e631c55-203c-49b8-fdf8-dd70ce497895"
      },
      "execution_count": null,
      "outputs": [
        {
          "output_type": "stream",
          "name": "stdout",
          "text": [
            "[1, 2, 3, 4, 5]\n"
          ]
        }
      ]
    },
    {
      "cell_type": "code",
      "source": [
        "#7. Write a code to append the number 10 to the list [1, 2, 3, 4].\n",
        "\n",
        "num = [1, 2, 3, 4]\n",
        "num.append(10)\n",
        "print(num)"
      ],
      "metadata": {
        "colab": {
          "base_uri": "https://localhost:8080/"
        },
        "id": "uimCsyZiUhMM",
        "outputId": "984ee92f-2094-4528-ba31-04e3396a86e2"
      },
      "execution_count": null,
      "outputs": [
        {
          "output_type": "stream",
          "name": "stdout",
          "text": [
            "[1, 2, 3, 4, 10]\n"
          ]
        }
      ]
    },
    {
      "cell_type": "code",
      "source": [
        "#8. Write a code to remove the number 3 from the list [1, 2, 3, 4, 5].\n",
        "\n",
        "num_list = [1, 2, 3, 4, 5]\n",
        "num_list.remove(3)\n",
        "num_list\n"
      ],
      "metadata": {
        "colab": {
          "base_uri": "https://localhost:8080/"
        },
        "id": "vHxhBFmBUzds",
        "outputId": "5e103b4b-b7bf-4a56-a4f2-5b5da094c191"
      },
      "execution_count": null,
      "outputs": [
        {
          "output_type": "execute_result",
          "data": {
            "text/plain": [
              "[1, 2, 4, 5]"
            ]
          },
          "metadata": {},
          "execution_count": 14
        }
      ]
    },
    {
      "cell_type": "code",
      "source": [
        "#9. Write a code to access the second element in the list ['a', 'b', 'c', 'd'].\n",
        "\n",
        "my_list = ['a', 'b', 'c', 'd']\n",
        "my_list[1]"
      ],
      "metadata": {
        "colab": {
          "base_uri": "https://localhost:8080/",
          "height": 35
        },
        "id": "e9dlKZLZVLxk",
        "outputId": "980d0de7-7c30-4b9f-ebc5-5107ab12f6e0"
      },
      "execution_count": null,
      "outputs": [
        {
          "output_type": "execute_result",
          "data": {
            "text/plain": [
              "'b'"
            ],
            "application/vnd.google.colaboratory.intrinsic+json": {
              "type": "string"
            }
          },
          "metadata": {},
          "execution_count": 15
        }
      ]
    },
    {
      "cell_type": "code",
      "source": [
        "#10. Write a code to reverse the list [10, 20, 30, 40, 50].\n",
        "\n",
        "my_list = [10, 20, 30, 40, 50]\n",
        "my_list[::-1]"
      ],
      "metadata": {
        "colab": {
          "base_uri": "https://localhost:8080/"
        },
        "id": "KlPwnlSQY18P",
        "outputId": "4b7558c4-66b1-4d23-b3dd-fcbf08046e42"
      },
      "execution_count": null,
      "outputs": [
        {
          "output_type": "execute_result",
          "data": {
            "text/plain": [
              "[50, 40, 30, 20, 10]"
            ]
          },
          "metadata": {},
          "execution_count": 18
        }
      ]
    },
    {
      "cell_type": "code",
      "source": [
        "#11. Write a code to create a tuple with the elements\n",
        "# 100, 200, 300 and print it.\n",
        "\n",
        "my_tuple = (100, 200, 300)\n",
        "print(my_tuple)"
      ],
      "metadata": {
        "colab": {
          "base_uri": "https://localhost:8080/"
        },
        "id": "BlgBdyiFZIx-",
        "outputId": "6c7c3342-fd5d-4f81-ea23-16da7df4cec3"
      },
      "execution_count": null,
      "outputs": [
        {
          "output_type": "stream",
          "name": "stdout",
          "text": [
            "(100, 200, 300)\n"
          ]
        }
      ]
    },
    {
      "cell_type": "code",
      "source": [
        "#12. Write a code to access the second-to-last element of the tuple\n",
        "# ('red', 'green', 'blue', 'yellow').\n",
        "\n",
        "my_tuple =  ('red', 'green', 'blue', 'yellow')\n",
        "my_tuple[1:]"
      ],
      "metadata": {
        "colab": {
          "base_uri": "https://localhost:8080/"
        },
        "id": "_k-6M_ThZpUR",
        "outputId": "f0a2d784-efa1-469b-cbb7-6bca540d2cd6"
      },
      "execution_count": null,
      "outputs": [
        {
          "output_type": "execute_result",
          "data": {
            "text/plain": [
              "('green', 'blue', 'yellow')"
            ]
          },
          "metadata": {},
          "execution_count": 21
        }
      ]
    },
    {
      "cell_type": "code",
      "source": [
        "#13. Write a code to find the minimum number in the tuple (10, 20, 5, 15).\n",
        "\n",
        "my_tuple = (10, 20, 5, 15)\n",
        "min(my_tuple)"
      ],
      "metadata": {
        "colab": {
          "base_uri": "https://localhost:8080/"
        },
        "id": "LBJxKFfkaBhm",
        "outputId": "28f11b02-fd76-47ac-f3cd-5dd9ad9fdebb"
      },
      "execution_count": null,
      "outputs": [
        {
          "output_type": "execute_result",
          "data": {
            "text/plain": [
              "5"
            ]
          },
          "metadata": {},
          "execution_count": 23
        }
      ]
    },
    {
      "cell_type": "code",
      "source": [
        "#14. Write a code to find the index of the element \"cat\" in the tuple\n",
        "# ('dog', 'cat', 'rabbit')\n",
        "\n",
        "pet = ('dog', 'cat', 'rabbit')\n",
        "pet.index('cat')"
      ],
      "metadata": {
        "colab": {
          "base_uri": "https://localhost:8080/"
        },
        "id": "Ccvangeoacuw",
        "outputId": "4aff2015-d5dd-468f-cab2-3e911329e691"
      },
      "execution_count": null,
      "outputs": [
        {
          "output_type": "execute_result",
          "data": {
            "text/plain": [
              "1"
            ]
          },
          "metadata": {},
          "execution_count": 24
        }
      ]
    },
    {
      "cell_type": "code",
      "source": [
        "#15. Write a code to create a tuple containing three different fruits\n",
        "# and check if \"kiwi\" is in it.\n",
        "\n",
        "fruits = ('apple', 'banana', 'grapes', 'dates')\n",
        "'kiwi' in fruits"
      ],
      "metadata": {
        "colab": {
          "base_uri": "https://localhost:8080/"
        },
        "id": "l59RX0cfbh6y",
        "outputId": "158f50fc-4e15-4c7a-b697-9876db2350b7"
      },
      "execution_count": null,
      "outputs": [
        {
          "output_type": "execute_result",
          "data": {
            "text/plain": [
              "False"
            ]
          },
          "metadata": {},
          "execution_count": 27
        }
      ]
    },
    {
      "cell_type": "code",
      "source": [
        "#16. Write a code to create a set with the elements 'a', 'b', 'c' and print it.\n",
        "\n",
        "my_set = {'a', 'b', 'c'}\n",
        "print(my_set)"
      ],
      "metadata": {
        "colab": {
          "base_uri": "https://localhost:8080/"
        },
        "id": "_ed_RAICcHXY",
        "outputId": "ac519448-211c-435b-9027-ea7910b32e74"
      },
      "execution_count": null,
      "outputs": [
        {
          "output_type": "stream",
          "name": "stdout",
          "text": [
            "{'c', 'a', 'b'}\n"
          ]
        }
      ]
    },
    {
      "cell_type": "code",
      "source": [
        "#17. Write a code to clear all elements from the set {1, 2, 3, 4, 5}.\n",
        "\n",
        "my_set = {1, 2, 3, 4, 5}\n",
        "my_set.clear()\n",
        "my_set"
      ],
      "metadata": {
        "colab": {
          "base_uri": "https://localhost:8080/"
        },
        "id": "p0x1hYPDcopB",
        "outputId": "15539de6-e258-4942-ccee-e5ef694e4740"
      },
      "execution_count": null,
      "outputs": [
        {
          "output_type": "execute_result",
          "data": {
            "text/plain": [
              "set()"
            ]
          },
          "metadata": {},
          "execution_count": 31
        }
      ]
    },
    {
      "cell_type": "code",
      "source": [
        "#18. Write a code to remove the element 4 from the set {1, 2, 3, 4}.\n",
        "\n",
        "my_set = {1, 2, 3, 4}\n",
        "my_set.remove(4)\n",
        "print(my_set)"
      ],
      "metadata": {
        "colab": {
          "base_uri": "https://localhost:8080/"
        },
        "id": "BNNK5WGJdFmJ",
        "outputId": "7c3fb495-67f4-45fa-f3c6-e493fdfebe7d"
      },
      "execution_count": null,
      "outputs": [
        {
          "output_type": "stream",
          "name": "stdout",
          "text": [
            "{1, 2, 3}\n"
          ]
        }
      ]
    },
    {
      "cell_type": "code",
      "source": [
        "#19. Write a code to find the union of two sets {1, 2, 3} and {3, 4, 5}.\n",
        "\n",
        "set1 = {1, 2, 3}\n",
        "set2 = {3, 4, 5}\n",
        "new_set = set1 | set2\n",
        "print(new_set)"
      ],
      "metadata": {
        "colab": {
          "base_uri": "https://localhost:8080/"
        },
        "id": "GNaJX_PWdmle",
        "outputId": "1e0bdf4f-fab8-4805-bf0c-0f20b3da3257"
      },
      "execution_count": null,
      "outputs": [
        {
          "output_type": "stream",
          "name": "stdout",
          "text": [
            "{1, 2, 3, 4, 5}\n"
          ]
        }
      ]
    },
    {
      "cell_type": "code",
      "source": [
        "#20. Write a code to find the intersection of two sets {1, 2, 3} and {2, 3, 4}.\n",
        "\n",
        "set1 = {1, 2, 3}\n",
        "set2 = {2, 3, 4}\n",
        "intersected_set = set1 & set2\n",
        "print(intersected_set)"
      ],
      "metadata": {
        "colab": {
          "base_uri": "https://localhost:8080/"
        },
        "id": "cwY4PBVzd-38",
        "outputId": "7bbf036d-25df-4df9-f221-ebda7572fc38"
      },
      "execution_count": null,
      "outputs": [
        {
          "output_type": "stream",
          "name": "stdout",
          "text": [
            "{2, 3}\n"
          ]
        }
      ]
    },
    {
      "cell_type": "code",
      "source": [
        "#21. Write a code to create a dictionary with the keys \"name\", \"age\",\n",
        "# and \"city\", and print it.\n",
        "\n",
        "my_dict = {'name':'', 'age':'', 'city': ''}\n",
        "my_dict"
      ],
      "metadata": {
        "colab": {
          "base_uri": "https://localhost:8080/"
        },
        "id": "RzpKlSB-ehmj",
        "outputId": "19d87872-5364-45dc-cf47-14e9c70a8b54"
      },
      "execution_count": null,
      "outputs": [
        {
          "output_type": "execute_result",
          "data": {
            "text/plain": [
              "{'name': '', 'age': '', 'city': ''}"
            ]
          },
          "metadata": {},
          "execution_count": 35
        }
      ]
    },
    {
      "cell_type": "code",
      "source": [
        "#22. Write a code to add a new key-value pair \"country\": \"USA\" to the\n",
        "# dictionary {'name': 'John', 'age': 25}.\n",
        "\n",
        "dictate = {'name': 'John', 'age': 25}\n",
        "dictate['country'] = 'USA'\n",
        "dictate"
      ],
      "metadata": {
        "colab": {
          "base_uri": "https://localhost:8080/"
        },
        "id": "UnRZ_Q0bgmar",
        "outputId": "ff3b62c1-e9f6-46a2-ed5b-b033950c9833"
      },
      "execution_count": null,
      "outputs": [
        {
          "output_type": "execute_result",
          "data": {
            "text/plain": [
              "{'name': 'John', 'age': 25, 'country': 'USA'}"
            ]
          },
          "metadata": {},
          "execution_count": 38
        }
      ]
    },
    {
      "cell_type": "code",
      "source": [
        "#23. Write a code to access the value associated with the key \"name\"\n",
        "# in the dictionary {'name': 'Alice', 'age': 30}\n",
        "\n",
        "new_dict = {'name': 'Alice', 'age': 30}\n",
        "new_dict['name']"
      ],
      "metadata": {
        "colab": {
          "base_uri": "https://localhost:8080/",
          "height": 35
        },
        "id": "C9l7PYkFhReA",
        "outputId": "7638bfcd-2ac9-447b-c7a7-0730da58f03d"
      },
      "execution_count": null,
      "outputs": [
        {
          "output_type": "execute_result",
          "data": {
            "text/plain": [
              "'Alice'"
            ],
            "application/vnd.google.colaboratory.intrinsic+json": {
              "type": "string"
            }
          },
          "metadata": {},
          "execution_count": 39
        }
      ]
    },
    {
      "cell_type": "code",
      "source": [
        "#24. Write a code to remove the key \"age\" from the dictionary\n",
        "# {'name': 'Bob', 'age': 22, 'city': 'New York'}.\n",
        "\n",
        "dict2 = {'name': 'Bob', 'age': 22, 'city': 'New York'}\n",
        "del dict2['age']\n",
        "dict2"
      ],
      "metadata": {
        "colab": {
          "base_uri": "https://localhost:8080/"
        },
        "id": "u1x_PGIZi3Vq",
        "outputId": "06b9b6f3-8f4e-4467-f15f-16a5b4cc11f1"
      },
      "execution_count": null,
      "outputs": [
        {
          "output_type": "execute_result",
          "data": {
            "text/plain": [
              "{'name': 'Bob', 'city': 'New York'}"
            ]
          },
          "metadata": {},
          "execution_count": 41
        }
      ]
    },
    {
      "cell_type": "code",
      "source": [
        "#25. Write a code to check if the key \"city\" exists in the dictionary\n",
        "# {'name': 'Alice', 'city': 'Paris'}\n",
        "\n",
        "dict3 = {'name':'Alice', 'city': 'Paris'}\n",
        "'city' in dict3"
      ],
      "metadata": {
        "colab": {
          "base_uri": "https://localhost:8080/"
        },
        "id": "9liHdzQPjqPn",
        "outputId": "76cd33c8-3b82-438f-96e0-396135bc84ae"
      },
      "execution_count": null,
      "outputs": [
        {
          "output_type": "execute_result",
          "data": {
            "text/plain": [
              "True"
            ]
          },
          "metadata": {},
          "execution_count": 43
        }
      ]
    },
    {
      "cell_type": "code",
      "source": [
        "#26.  Write a code to create a list, a tuple, and a dictionary,\n",
        "# and print them all.\n",
        "\n",
        "my_list = [1, 5, 7, 'New Orleans', 'Python', True]\n",
        "my_tuple = (5, 9, 8, ['Ajay, Bijay, Rahul'])\n",
        "my_dict = {'name': 'kaif', 'age': '25', 'course': ['Data Analytics', 'Machine Learning', 'SQL']}\n",
        "print(\"This is a list:\",my_list)\n",
        "print(\"This is a tuple:\",my_tuple)\n",
        "print(\"This is a dictionary:\",my_dict)"
      ],
      "metadata": {
        "colab": {
          "base_uri": "https://localhost:8080/"
        },
        "id": "ILGvQuOPlHmj",
        "outputId": "8da2274e-50e0-401d-a572-7297fc3baf1e"
      },
      "execution_count": null,
      "outputs": [
        {
          "output_type": "stream",
          "name": "stdout",
          "text": [
            "This is a list: [1, 5, 7, 'New Orleans', 'Python', True]\n",
            "This is a tuple: (5, 9, 8, ['Ajay, Bijay, Rahul'])\n",
            "This is a dictionary: {'name': 'kaif', 'age': '25', 'course': ['Data Analytics', 'Machine Learning', 'SQL']}\n"
          ]
        }
      ]
    },
    {
      "cell_type": "code",
      "source": [
        "#27. Write a code to create a list of 5 random numbers between 1 and 100,\n",
        "# sort it in ascending order, and print the result.(replaced)\n",
        "\n",
        "sorting_list = [89, 21, 14, 54, 39]\n",
        "sorting_list.sort()\n",
        "print(sorting_list)"
      ],
      "metadata": {
        "colab": {
          "base_uri": "https://localhost:8080/"
        },
        "id": "zIS9YzCVnrhL",
        "outputId": "20010c77-9b2c-46ed-bf4f-e654c5551e3f"
      },
      "execution_count": null,
      "outputs": [
        {
          "output_type": "stream",
          "name": "stdout",
          "text": [
            "[14, 21, 39, 54, 89]\n"
          ]
        }
      ]
    },
    {
      "cell_type": "code",
      "source": [
        "#28. Write a code to create a list with strings and print the element at the\n",
        "# third index.\n",
        "\n",
        "my_string = ['abc', 'bcd', 'def', 'efg']\n",
        "print(my_string[2])"
      ],
      "metadata": {
        "colab": {
          "base_uri": "https://localhost:8080/"
        },
        "id": "KdH15UTJArLr",
        "outputId": "89ef9050-e504-446d-c6f3-7edf0a640f01"
      },
      "execution_count": null,
      "outputs": [
        {
          "output_type": "stream",
          "name": "stdout",
          "text": [
            "def\n"
          ]
        }
      ]
    },
    {
      "cell_type": "code",
      "source": [
        "#29. Write a code to combine two dictionaries into one and print the result.\n",
        "\n",
        "dict1 = {'name': 'Kaif', 'age': '25'}\n",
        "dict2 = {'course': 'Data Analytics', 'Country': 'INDIA'}\n",
        "\n",
        "my_dic = {**dict1, **dict2}\n",
        "\n",
        "print(my_dic)"
      ],
      "metadata": {
        "colab": {
          "base_uri": "https://localhost:8080/"
        },
        "id": "mIv-xsQZBPfi",
        "outputId": "137e64c6-df8e-4a01-9e37-fea855c40b4d"
      },
      "execution_count": null,
      "outputs": [
        {
          "output_type": "stream",
          "name": "stdout",
          "text": [
            "{'name': 'Kaif', 'age': '25', 'course': 'Data Analytics', 'Country': 'INDIA'}\n"
          ]
        }
      ]
    },
    {
      "cell_type": "code",
      "source": [
        "#30. Write a code to convert a list of strings into a set.\n",
        "\n",
        "my_list = ['new', 'old', 'day', 'night', 'sun', 'moon']\n",
        "s = set(my_list)\n",
        "print(s)"
      ],
      "metadata": {
        "colab": {
          "base_uri": "https://localhost:8080/"
        },
        "id": "h-w-4NwIGraK",
        "outputId": "af371f5d-0825-4a33-f53a-1b13d13ca990"
      },
      "execution_count": null,
      "outputs": [
        {
          "output_type": "stream",
          "name": "stdout",
          "text": [
            "{'old', 'sun', 'new', 'moon', 'night', 'day'}\n"
          ]
        }
      ]
    }
  ]
}