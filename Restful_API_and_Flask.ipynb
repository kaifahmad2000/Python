{
  "nbformat": 4,
  "nbformat_minor": 0,
  "metadata": {
    "colab": {
      "provenance": []
    },
    "kernelspec": {
      "name": "python3",
      "display_name": "Python 3"
    },
    "language_info": {
      "name": "python"
    }
  },
  "cells": [
    {
      "cell_type": "markdown",
      "source": [
        "1. What is a RESTful API?\n",
        "- A RESTful API is a web service that follows the principles of REST(Representational State Transfer), it allows two software systems to communicate over the web using URLs and HTTPs method like GET, POST, PUT, and DELETE.\n",
        "\n",
        "2. Explain the concept of API specification?\n",
        "- An API specification is a formal document that outlines how an API should function and interact with other systems. It acts as a blueprint, defining structure, data formats, and behavior of the API.This allows developers to understand how to use the API without needing to see the underlying code or implementation details.\n",
        "API specification includes details about:\n",
        "- Endpoints: The specific URLs where different API functionalities are accessed.\n",
        "- Methods: The HTTP methods supported by each endpoint.\n",
        "- Parameters: The input data required by the API, including their data types and formats.\n",
        "- Responses: The structure and data types of the information returned by the API, including success and error responses.\n",
        "- Data Models: The structure of the data exchanged between the API and its users.\n",
        "- Authentication and Authorization: How users are authenticated and authorized to access the API.\n",
        "\n",
        "3. What is Flask, and why is it popular for building APIs?\n",
        "- Flask is a lightweight, flexible Python microframework for building web applications.It is known for its simplicity, ease of use, and ability to be extended with various libraries and tools.\n",
        "\n",
        "4. What is routing in Flask?\n",
        "- Routing in Flask is the process of mapping URLs to specific Python functions, known as view functions, that handle the requests made to those URLs. It determines how an application responds to a particular request for a resource or functionality.\n",
        "\n",
        "5. How do you create a simple Flask application?\n",
        "- We can create a simple flask application by following these simple steps:\n",
        "\n",
        "- importing flask\n",
        "from flask import Flask\n",
        "\n",
        "- create flask instance\n",
        "app = Flask(__name__)\n",
        "\n",
        "- define functions and route them\n",
        "@app.route(\"/\")\n",
        "def home:\n",
        "  pass\n",
        "- trigger the flask app\n",
        "if __name__ = __main__\n",
        "app.run()\n",
        "\n",
        "6. What are HTTP methods used in RESTful APIs?\n",
        "- There are mainly four HTTP methods used in RESTful APIs:\n",
        "CREATE: POST method is used to create a 'new record' on the server.\n",
        "RETRIEVE: GET method is used to retrieve a record or a collection of records from the server.\n",
        "UPDATE: PUT method sends data to update an 'existing record' on the server.\n",
        "DELETE: DELETE method is used to delete records from the server.\n",
        "\n",
        "7. What is the purpose of the @app.route() decorator in Flask?\n",
        "- @app.route(): decorator in flask serves the purpose of defining URL routing for a flask application. It binds a specific URL path to a Python function, known as a \"view function\" that will handle requests made to the URL.\n",
        "\n",
        "8. What is the difference between GET and POST HTTP methods?\n",
        "- GET: method is used to retrieve a record or a collection of records from a server.\n",
        "POST: method is used to create a new record on the server.\n",
        "\n",
        "9. How do you handle errors in Flask APIs?\n",
        "- When an error occurs in Flask, an appropriate HTTP status code will returned. 400-499 indicates error with the client's request data, or about the data requested. 500-599 indicate errors with the server or application itself.\n",
        "        An error handler is a function\n",
        "that returns a response when a type of error is raised, similar to how a view is a function that returns a response when a request URL is matched. It is passed the instance of the error being handled, which is most likely a HTTP exception.\n",
        "The error can be handled in Flask:\n",
        "1) Using try-except blocks: it catches specific errors in logic.\n",
        "2) Using Flask's @app.errorhandler decorator: used for global error handling.\n",
        "3) Using abort() to return early: it manually trigger HTTP errors.\n",
        "\n",
        "10. How do you connect Flask to a SQL database?\n",
        "- Step1: create the getdb function.\n",
        "  Step2: close the database connecion after each request.\n",
        "  Step2: use the getdb function in routes.\n",
        "\n",
        "11. What is the role of Flask-SQLAlchemy?\n",
        "- Flask-SQLAlchemy is a flask extension that makes using SQLAlchemy with Flask easier,providing you tools and methods to interact with your database in your Flask applications through SQLAlchemy.\n",
        "\n",
        "12. What are Flask blueprints, and how are they useful?\n",
        "- Flask blueprints are a way to organize your Flask application into reusable and most importantly maintainable units.WIth blueprints, you can break your application into smaller, more manageable pieces, making it easier to maintain and scale.\n",
        "\n",
        "13. What is the purpose of Flask's request object?\n",
        "- The purpose of flask's request object is to provide access to information about the incoming HTTP request sent by a client to the Flask server.This object is automatically available within Flask view functions when a request is being processed.\n",
        "\n",
        "14. How do you create a RESTful API endpoint using Flask?\n",
        "- importing flask\n",
        "from flask import Flask\n",
        "\n",
        "- create flask instance\n",
        "app = Flask(__name__)\n",
        "\n",
        "- define functions and route them\n",
        "@app.route(\"/\")\n",
        "def home:\n",
        "  pass\n",
        "- trigger the flask app\n",
        "if __name__ = __main__\n",
        "app.run()\n",
        "\n",
        "15. What is the purpose of Flask's jsonify() function?\n",
        "- Flask's jsonify() function's primary purpose is to convert Python dictionaries or lists into a JSON(Javascript Object Notation) response, which is commonly used to data exchange in web applications.\n",
        "\n",
        "16. Explain Flask's url_for() function?\n",
        "- Flask's url_for() function is used to dynamically build URLs for routes (functions) in your application. Instead of hardcoding URLs in your templates or views, you use url_for() to reference the route by its function name.\n",
        "\n",
        "17. How does Flask handle static files (CSS, JavaScript, etc.)?\n",
        "- Flask serves static files(like: CSS, Javascript, images) using a built-in mechanism. It automatically looks for them in a folder named static/ inside your project directory.\n",
        "\n",
        "18. What is an API specification, and how does it help in building a Flask API?\n",
        "- An API specification is a detailed, structured blueprint that defines how a RESTful API should behave. It describes:\n",
        "- Endpoints\n",
        "- Methods\n",
        "- Request parameters\n",
        "- Request/response formats\n",
        "- Status codes\n",
        "- Authentication rules\n",
        "\n",
        "19. What are HTTP status codes, and why are they important in a Flask API?\n",
        "- When an error occurs in Flask, an appropriate HTTP status code will returned. 400-499 indicates error with the client's request data, or about the data requested. 500-599 indicate errors with the server or application itself.\n",
        "They tell the client what happened when the request was processed - whether it was successful failed or redirected etc.\n",
        "\n",
        "20. How do you handle POST requests in Flask?\n",
        "- We can handle the post request in Flask with the help of @app.route() decorator with methods = ['POST']. e.g.,\n",
        "@app.route(\"/about\", methods = ['POST'])\n",
        "def aboutUs():\n",
        "    pass\n",
        "21. How would you secure a Flask API?\n",
        "- We can secure a flask app by various means:\n",
        "1) Use HTTPS: always serve your Flask app over HTTPS, especially in production.\n",
        "2) Use Secure Socket Keys: Flask's SECRET_KEY is used for sessions,CSRF protection, etc, use always environment variables.\n",
        "3) Implement Authentication and Authorization: Use Flask extensions like:\n",
        "Flask-Login for session based login\n",
        "Flask-JWT-Extended for token-based APIs\n",
        "Flask-0Authlib for social logins(Google, GitHub,etc)\n",
        "\n",
        "22. What is the significance of the Flask-RESTful extension?\n",
        "- Flask-RESTful is a flask extension that simplifies the development of REST APIs. It provides a structured way to handle resources and HTTP methods, making it easier to build and organize APIs using Python and Flask.\n",
        "\n",
        "23. What is the role of Flask's session object?\n",
        "- In Flask, the session object provides a way to store user-specific data across multiple requests, similar to how cookies work but with added security level.\n",
        "\n"
      ],
      "metadata": {
        "id": "VF65yBLPyuyN"
      }
    },
    {
      "cell_type": "code",
      "source": [
        "#1. How do you create a basic Flask application?\n",
        "from flask import Flask\n",
        "\n",
        "app = Flask(__name__)\n",
        "\n",
        "@app.route(\"/\")\n",
        "def home():\n",
        "  return \"Hello World!\"\n",
        "\n",
        "if __name__ == \"__main__\":\n",
        "  app.run()"
      ],
      "metadata": {
        "colab": {
          "base_uri": "https://localhost:8080/"
        },
        "id": "gtSxXQ54CBN3",
        "outputId": "6af30d43-1306-4e05-816c-5c1e458ba064"
      },
      "execution_count": 1,
      "outputs": [
        {
          "output_type": "stream",
          "name": "stdout",
          "text": [
            " * Serving Flask app '__main__'\n",
            " * Debug mode: off\n"
          ]
        },
        {
          "output_type": "stream",
          "name": "stderr",
          "text": [
            "INFO:werkzeug:\u001b[31m\u001b[1mWARNING: This is a development server. Do not use it in a production deployment. Use a production WSGI server instead.\u001b[0m\n",
            " * Running on http://127.0.0.1:5000\n",
            "INFO:werkzeug:\u001b[33mPress CTRL+C to quit\u001b[0m\n"
          ]
        }
      ]
    },
    {
      "cell_type": "code",
      "source": [
        "#2. How do you serve static files like images or CSS in Flask?\n",
        "from flask import Flask, send_from_directory\n",
        "\n",
        "app = Flask(__name__)\n",
        "\n",
        "@app.route('/static/<path:filename>')  # only works if the file is saved in static folder\n",
        "def serve_static(filename):\n",
        "    return send_from_directory('static', filename)"
      ],
      "metadata": {
        "id": "-zEyLR0qbyYs"
      },
      "execution_count": null,
      "outputs": []
    },
    {
      "cell_type": "code",
      "source": [
        "#3. How do you define different routes with different HTTP methods in Flask?\n",
        "from flask import Flask, jsonify\n",
        "\n",
        "app = Flask(__name__)\n",
        "\n",
        "@app.route('/users', methods=['GET'])\n",
        "def add_numbers(num1, num2):\n",
        "    return num1 + num2\n",
        "\n",
        "if __name__ == '__main__':\n",
        "    app.run()"
      ],
      "metadata": {
        "id": "GEevQhxIdyxR"
      },
      "execution_count": null,
      "outputs": []
    },
    {
      "cell_type": "code",
      "source": [
        "#4. How do you render HTML templates in Flask?\n",
        "from flask import Flask , jsonify , render_template\n",
        "\n",
        "app = Flask(__name__)\n",
        "\n",
        "@app.route('/')\n",
        "def home_page():\n",
        "    return render_template('index.html')\n",
        "\n",
        "@app.route('/about')\n",
        "def abfromout():\n",
        "    return \"\"\"<h1>About Us</h1><br>\n",
        "            <h2>PW(Physics Wallah) is student’s lifelong learning partner that is democratizing education at scale in India, with a presence spanning online, offline, and hybrid modes, reaching 98% of India`s pin codes. PW has more than 10 million paid students on the PW App. PW also provides quality education to more than 36 million students through its 80 YouTube channels in 8 vernacular languages</h2><br>\n",
        "            <h3>Its my time</h3>\"\"\"\n",
        "\n",
        "@app.route('/data')\n",
        "def data():\n",
        "    user_data = {\"Name\": 'Kaif',\n",
        "            \"Age\": '25'}\n",
        "    return jsonify(user_data)\n",
        "\n",
        "if __name__ == '__main__':\n",
        "    app.run(debug = True)"
      ],
      "metadata": {
        "id": "-_CxsQSDeYtj"
      },
      "execution_count": null,
      "outputs": []
    },
    {
      "cell_type": "code",
      "source": [
        "#5. How can you generate URLs for routes in Flask using url_for?\n",
        "url_for('user_profile', username='kaif')"
      ],
      "metadata": {
        "id": "Kc13sacmfL6f"
      },
      "execution_count": null,
      "outputs": []
    },
    {
      "cell_type": "code",
      "source": [
        "#6. How do you handle forms in Flask?\n",
        "from flask import Flask, jsonify , render_template\n",
        "\n",
        "app = Flask(__name__)\n",
        "\n",
        "\n",
        "@app.route('/', methods = ['GET'])\n",
        "def form():\n",
        "    return render_template(\"form.html\") # only works if the form.html file is under templates folder.\n",
        "\n",
        "@app.route('/form', methods = ['POST'])\n",
        "def welcome():\n",
        "    return \"We have received your information.\"\n",
        "\n",
        "@app.route('/about')\n",
        "def about():\n",
        "    return \"\"\"<h1>About Us</h1><br>\n",
        "            <h2>PW(Physics Wallah) is student’s lifelong learning partner that is democratizing education at scale in India, with a presence spanning online, offline, and hybrid modes, reaching 98% of India`s pin codes. PW has more than 10 million paid students on the PW App. PW also provides quality education to more than 36 million students through its 80 YouTube channels in 8 vernacular languages</h2><br>\n",
        "            <h3>Its my time</h3>\"\"\"\n",
        "\n",
        "@app.route('/data')\n",
        "def data():\n",
        "    user_data = {\"name\": \"Kaif\",\n",
        "                  \"Age\": \"25\"}\n",
        "    return jsonify(user_data)\n",
        "\n",
        "if __name__ == '__main__':\n",
        "    app.run(debug = True)"
      ],
      "metadata": {
        "id": "am2ZJA5Pfvj6"
      },
      "execution_count": null,
      "outputs": []
    },
    {
      "cell_type": "code",
      "source": [
        "#7. How can you validate form data in Flask?\n",
        "pip install flask-wtf\n",
        "from flask import Flask, render_template, request, redirect, url_for, flash\n",
        "from flask_wtf import FlaskForm\n",
        "from wtforms import StringField, PasswordField, SubmitField\n",
        "from wtforms.validators import DataRequired, Email, Length\n",
        "\n",
        "app = Flask(__name__)\n",
        "app.secret_key = 'your-secret-key'  # Required for CSRF protection\n",
        "\n",
        "class LoginForm(FlaskForm):\n",
        "    email = StringField('Email', validators=[DataRequired(), Email()])\n",
        "    password = PasswordField('Password', validators=[DataRequired(), Length(min=6)])\n",
        "    submit = SubmitField('Login')\n",
        "\n",
        "@app.route('/login', methods=['GET', 'POST'])\n",
        "def login():\n",
        "    form = LoginForm()\n",
        "\n",
        "    if form.validate_on_submit():\n",
        "        email = form.email.data\n",
        "        password = form.password.data\n",
        "        # Perform login logic here\n",
        "        flash('Login successful!', 'success')\n",
        "        return redirect(url_for('login'))\n",
        "\n",
        "    return render_template('login.html', form=form)"
      ],
      "metadata": {
        "id": "pwH5WA6BgUjt"
      },
      "execution_count": null,
      "outputs": []
    },
    {
      "cell_type": "code",
      "source": [
        "#8. How do you manage sessions in Flask?\n",
        "from flask import Flask, session, redirect, url_for, request, render_template\n",
        "\n",
        "app = Flask(__name__)\n",
        "app.secret_key = 'supersecretkey'  # Required to use sessions\n",
        "\n",
        "# Home page\n",
        "@app.route('/')\n",
        "def home():\n",
        "    username = session.get('username')\n",
        "    if username:\n",
        "        return f'Welcome back, {username}!'\n",
        "    return 'You are not logged in.'\n",
        "\n",
        "# Login page (sets session)\n",
        "@app.route('/login', methods=['GET', 'POST'])\n",
        "def login():\n",
        "    if request.method == 'POST':\n",
        "        username = request.form['username']\n",
        "        session['username'] = username  # Store username in session\n",
        "        return redirect(url_for('home'))\n",
        "    return '''\n",
        "        <form method=\"POST\">\n",
        "            Username: <input type=\"text\" name=\"username\">\n",
        "            <input type=\"submit\" value=\"Login\">\n",
        "        </form>\n",
        "    '''\n",
        "\n",
        "# Logout (clears session)\n",
        "@app.route('/logout')\n",
        "def logout():\n",
        "    session.pop('username', None)  # Safely remove username\n",
        "    return redirect(url_for('home'))"
      ],
      "metadata": {
        "id": "ZnP6RDpGg5pH"
      },
      "execution_count": null,
      "outputs": []
    },
    {
      "cell_type": "code",
      "source": [
        "#9. How do you redirect to a different route in Flask?\n",
        "from flask import Flask, redirect, url_for\n",
        "\n",
        "app = Flask(__name__)\n",
        "\n",
        "@app.route('/')\n",
        "def home():\n",
        "    return 'This is the Home Page.'\n",
        "\n",
        "@app.route('/login')\n",
        "def login():\n",
        "    return 'Please log in.'\n",
        "\n",
        "@app.route('/go-to-login')\n",
        "def go_to_login():\n",
        "    return redirect(url_for('login'))  # Redirects to /login"
      ],
      "metadata": {
        "id": "U4NrwAuohTc0"
      },
      "execution_count": null,
      "outputs": []
    },
    {
      "cell_type": "code",
      "source": [
        "#10. How do you handle errors in Flask(e.g., 404)?\n",
        "from flask import Flask, render_template\n",
        "\n",
        "app = Flask(__name__)\n",
        "\n",
        "@app.errorhandler(404)\n",
        "def not_found_error(e):\n",
        "    return render_template('404.html'), 404"
      ],
      "metadata": {
        "id": "Q3jsC0QshgqQ"
      },
      "execution_count": null,
      "outputs": []
    },
    {
      "cell_type": "code",
      "source": [
        "#11. How do you structure a Flask app using Blueprints?\n",
        "from flask import Blueprint, render_template\n",
        "\n",
        "user_bp = Blueprint('user', __name__, template_folder='../templates')\n",
        "\n",
        "@user_bp.route('/profile')\n",
        "def profile():\n",
        "    return render_template('user.html')"
      ],
      "metadata": {
        "id": "ASksmMsih1r8"
      },
      "execution_count": null,
      "outputs": []
    },
    {
      "cell_type": "code",
      "source": [
        "#12. How do you define a custom Jinja filter in Flask?\n",
        "from flask import Flask, render_template\n",
        "\n",
        "app = Flask(__name__)\n",
        "\n",
        "# Custom Jinja filter\n",
        "@app.template_filter('reverse')\n",
        "def reverse_string(s):\n",
        "    return s[::-1]\n",
        "\n",
        "@app.route('/')\n",
        "def home():\n",
        "    return render_template('index.html')"
      ],
      "metadata": {
        "id": "XeFfigieiFUO"
      },
      "execution_count": null,
      "outputs": []
    },
    {
      "cell_type": "code",
      "source": [
        "#13. How can you redirect with query parameters in Flask?\n",
        "from flask import Flask, redirect, url_for, request\n",
        "\n",
        "app = Flask(__name__)\n",
        "\n",
        "@app.route('/')\n",
        "def index():\n",
        "    # Redirect with query parameters\n",
        "    return redirect(url_for('greet_user', name='Kaif', age=25))\n",
        "\n",
        "@app.route('/greet')\n",
        "def greet_user():\n",
        "    name = request.args.get('name')\n",
        "    age = request.args.get('age')\n",
        "    return f\"Hello {name}, you are {age} years old.\""
      ],
      "metadata": {
        "id": "dLEopb0TibL6"
      },
      "execution_count": null,
      "outputs": []
    },
    {
      "cell_type": "code",
      "source": [
        "#14. How do you return JSON responses in Flask?\n",
        "from flask import Flask, jsonify\n",
        "\n",
        "app = Flask(__name__)\n",
        "\n",
        "@app.route('/api/data')\n",
        "def get_data():\n",
        "    data = {'name': 'Kaif', 'age': 25}\n",
        "    return jsonify(data)"
      ],
      "metadata": {
        "id": "Y0YMd_y-iwZE"
      },
      "execution_count": null,
      "outputs": []
    },
    {
      "cell_type": "code",
      "source": [
        "#15. How do you capture URL parameters in Flask?\n",
        "from flask import Flask\n",
        "\n",
        "app = Flask(__name__)\n",
        "\n",
        "@app.route('/user/<username>')\n",
        "def show_user(username):\n",
        "    return f\"User: {username}\"\n",
        "\n",
        "@app.route('/post/<int:post_id>')\n",
        "def show_post(post_id):\n",
        "    return f\"Post ID: {post_id}\"\n"
      ],
      "metadata": {
        "id": "RkAEU9_Fi4WC"
      },
      "execution_count": null,
      "outputs": []
    }
  ]
}