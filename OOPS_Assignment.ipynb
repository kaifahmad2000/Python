{
  "nbformat": 4,
  "nbformat_minor": 0,
  "metadata": {
    "colab": {
      "provenance": []
    },
    "kernelspec": {
      "name": "python3",
      "display_name": "Python 3"
    },
    "language_info": {
      "name": "python"
    }
  },
  "cells": [
    {
      "cell_type": "markdown",
      "source": [
        "1. What is Object-Oriented Programming (OOP)?\n",
        "- Object-Oriented Programming is a programming paradigm that organizes code using classes and objects, making it easier to build, reuse, and maintain complex and scalable applications.\n",
        "\n",
        "2. What is a class in OOP?\n",
        "- Classes are the blueprints for creating objects. e.g.,\n",
        "class Vehicle:\n",
        "    def Car(self):\n",
        "        print(\"This is the property of car.\")\n",
        "\n",
        "3. What is an object in OOP?\n",
        "- Objects are the instances of the classes that contain attributes and methods. e.g.,\n",
        "class Vehicle:\n",
        "    def Car(self):\n",
        "        print(\"This is a property of Car\")\n",
        "obj_1 = Vehicle()\n",
        "obj_1.Car()\n",
        "\n",
        "4. What is the difference between abstraction and encapsulation?\n",
        "- Abstraction is the concept of hiding complex implementation/ unneeded details whereas Encapsulation hides internal state using access modifiers to protect data from unauthorized access/ modification.Example:\n",
        "class Pwskills:\n",
        "\n",
        "    @abc.abstractmethod (makes the method abstract)\n",
        "    def student_details(self):\n",
        "        pass\n",
        "\n",
        "    @abc.abstractmethod\n",
        "    def student_assignment(self):\n",
        "        pass\n",
        "\n",
        "    @abc.abstractmethod\n",
        "    def student_marks(self):\n",
        "        pass\n",
        "\n",
        "class Student:\n",
        "    def __init__(self, name, degree):\n",
        "        self.name = name\n",
        "        self.__degree = degree # makes it private to prevent any unauthorized modification.\n",
        "\n",
        "    def show(self):\n",
        "        # accessing the private and public data member\n",
        "        print('name', self.name, 'degree', self.__degree)\n",
        "\n",
        "aj = Student('Ajay', 'Masters')\n",
        "\n",
        "5. What are dunder methods in Python?\n",
        "- Dunder method or magic method are the methods defined by built-in classes in python.Classes define these type of methods for creating custom objects implementing operator overloading in python. Some examples are __add__, __init__ etc.\n",
        "\n",
        "6. Explain the concept of inheritance in OOP.\n",
        "- Inheritance refers to the process of child class inherits the properties of parent class.   Syntax:\n",
        "class BaseClass:\n",
        "    body of base class\n",
        "class DerievedClass(BaseClass):\n",
        "    body of derieved class\n",
        "  Here, Derieved class being the child of Base child inherits all the properties of base class.\n",
        "\n",
        "7. What is polymorphism in OOP?\n",
        "- Polymorphism means 'many forms'.It refers to an object taking several forms depending on the methods/ data.\n",
        "For example:\n",
        "class Student:\n",
        "    def student(self):\n",
        "        print('Welcome to PWSKILLS')\n",
        "    def student(self, name = ''):\n",
        "        print('Welcome to PWSKILLS', name)\n",
        "    def student(self, name = '', course = ''):\n",
        "        print('Welcome to PWSKILLS', name, course)\n",
        "stud = Student()\n",
        "stud.student() # Output: Wlcome to PWSKILLS\n",
        "\n",
        "stud.student('Kaif', 'Data Science') # Output: Welcome to PWSKILLS Kaif Data Science\n",
        "\n",
        "8. How is encapsulation achieved in Python?\n",
        "- Encapsulation in python can be achieved by using Access Modifiers like: public (no under score), private  (double underscore before the variable), protected (single underscore before the variable).\n",
        "class Student:\n",
        "    def __init__(self, name, degree):\n",
        "        self.name = name\n",
        "        self.__degree = degree  # makes attribute private\n",
        "\n",
        "    def show(self):\n",
        "        # accessing the private and public data member\n",
        "        print('name', self.name, 'degree', self.__degree)\n",
        "\n",
        "    def __private_method(self):\n",
        "        print(\"This is a private method.\")\n",
        "\n",
        "    def access_private_method(self):\n",
        "        self.__private_method()\n",
        "\n",
        "9. What is a constructor in Python?\n",
        "- A constructor is a special method that is called automatically when an object is created from a class. The method new and init are constructor that create a new instance and sets up instance's attributes after creation.\n",
        "\n",
        "10. What are class and static methods in Python?\n",
        "- Class method is bound to a class (not to a particular instance of the class), access/ modify methods and attributes associated to the class. (@classmethod) while static method doesnot modify class or instance state, it behaves like a plain function that belongs to class.(@staticmethod)\n",
        "\n",
        "11. What is method overloading in Python?\n",
        "- Method overloading means defining multiple method with the same name but different parameters. Python doesn't support method overloading in traditional way. Example:\n",
        "class Student:\n",
        "    def student(self):\n",
        "        print('Welcome to PWSKILLS')\n",
        "    def student(self, name = ''):\n",
        "        print('Welcome to PWSKILLS', name)\n",
        "    def student(self, name = '', course = ''):\n",
        "        print('Welcome to PWSKILLS', name, course)\n",
        "stud.student('Kaif')\n",
        "\n",
        "12. What is method overriding in OOP?\n",
        "- When a method in parent class and child class with same signature is executed the child class signature overrides the parent class.Example:\n",
        "class Animal:\n",
        "    def sound(self):\n",
        "        print(\"Animal sound.\")\n",
        "class Cat:\n",
        "    def sound(self):\n",
        "        print(\"cat meaws.\")\n",
        "anm = Animal()\n",
        "anm.sound()\n",
        "\n",
        "13. What is a property decorator in Python?\n",
        "- A property decorators allows a method to be accessed as an attribute.Example:\n",
        "class Circle:\n",
        "    def __init__(self, radius):\n",
        "        self.radius = radius\n",
        "    \n",
        "    @property\n",
        "    def area(self):\n",
        "        radius = self.radius\n",
        "        return 3.14 * radius ** 2\n",
        "obj = Circle(5)\n",
        "obj.area\n",
        "\n",
        "14. Why is polymorphism important in OOP?\n",
        "- Polymorphism allows the same method or function name to behave differently based on the object calling it. Polymorphism provide code reusability, flexibility and supports method overriding which makes it important.\n",
        "\n",
        "15. What is an abstract class in Python?\n",
        "- An abstract class is a class that cannot be instantiated on its own and is designed to be a blueprint for other classes. Example:\n",
        "import abc\n",
        "class Animal:\n",
        "      @abc.abstractmethod\n",
        "      def sound(self):\n",
        "          pass\n",
        "\n",
        "16. What are the advantages of OOP?\n",
        "- There are numerous advantages of OOP. Some of them are:\n",
        "i) OOP language allows to break the program into bit-sized problems that can be solved easily.\n",
        "ii) Possible that multiple instances of objects co-exist without any interference.\n",
        "iii) It is very easy to partition the project based on objects.\n",
        "iv) By using inheritance, we can eliminate redundant code and extend the use of existing classes.\n",
        "\n",
        "17. What is the difference between a class variable and an instance variable?\n",
        "- Class variable is shared and accessible by instances of a class whereas an instance variable is unique to each object and only accessible through that specific instance.\n",
        "class Animal:\n",
        "    sound = \"\"   #class variable\n",
        "    def __init__(self, name, age):\n",
        "          self.name = name #instance var\n",
        "          self.age = age   #instance var\n",
        "\n",
        "18. What is multiple inheritance in Python?\n",
        "- When one child class can inherit properties from multiple parent class,it is known as multiple inheritance.\n",
        "class ParentClass1:\n",
        "    def method1(self):\n",
        "        print(\"method 1 of parent class 1\")\n",
        "class ParentClass2:\n",
        "    def method2(self):\n",
        "        print(\"method 1 of parent class 2\")\n",
        "class ChildClass(ParentClass1, ParentClass2):   #multiple inheritance\n",
        "    def method(self):\n",
        "        print(\"method of child class\")\n",
        "\n",
        "19. Explain the purpose of '__str__' and '__repr__' methods in Python.\n",
        "- Both '__str__' and '__repr__' are special methods in python used to define how an object is represented as a string.Example:\n",
        "class Person:\n",
        "    def __init__(self, name):\n",
        "        self.name = name\n",
        "    \n",
        "    def __str__(self):\n",
        "        return f\"Peron name is {self.name}\"\n",
        "    def __repr__(self):\n",
        "        return f\"Person('{self.name}')\"\n",
        "per = Person(\"Kaif\")\n",
        "print(per)  Output: Person name is Kaif\n",
        "print(repr(per))  Output: Person ('Kaif')\n",
        "\n",
        "20. What is the significance of the 'super()' function in Python?\n",
        "- super() function is the another way to access the data in the base class.\n",
        "\n",
        "21. What is the significance of the __del__ method in Python?\n",
        "- __del__ is a special method in python also known as destructor. It is automatically called when an object is about to be destroyed, typically during garbage collection.\n",
        "\n",
        "22. What is the difference between @staticmethod and @classmethod in Python?\n",
        "- Static method does not modify class or instance state, it behaves like a plain function that belongs to class.(@staticmethod) while a class method is bound to a class (not to a particular instance of the class), access/ modify methods and attributes associated to the class(@classmethod).\n",
        "\n",
        "23. How does polymorphism work in Python with inheritance?\n",
        "-\n",
        "class Animal:\n",
        "    def sound(self):\n",
        "        print(\"Animal sound.\")\n",
        "class Cat(Animal):\n",
        "    def sound(self):\n",
        "        print(\"cat meaws.\")\n",
        "class Dog(Animal):\n",
        "    def sound(self):\n",
        "        print(\"dog barks\")\n",
        "animals = [Cat(), Dog(), Animal()]\n",
        "for animal in animals:\n",
        "    animal.sound()\n",
        "\n",
        "24. What is method chaining in Python OOP?\n",
        "- Method chaining is a powerful technique in python programming that allows us to call multiple methods or an object in a single, continuous line of code. This approach makes the code cleaner, more readable and often easier to maintain.\n",
        "text = \"hello, pp!\"\n",
        "result = text.strip().capitalize().replace(\"pp\",\"Python Programming\")\n",
        "print(result)\n",
        "\n",
        "25. What is the purpose of the __call__ method in Python?\n",
        "- The __call__ method allows an instance of a class to be called like a function.\n",
        "class Greet:\n",
        "    def __init__(self, name):\n",
        "        self.name = name\n",
        "    def __call__(self):\n",
        "        print(f\"Hello, {self.name}\")\n",
        "person = Greet(\"Kaif\")\n",
        "\n",
        "person()    #calling an object like a function."
      ],
      "metadata": {
        "id": "5aileixTBT_6"
      }
    },
    {
      "cell_type": "code",
      "source": [
        "#1. Create a parent class Animal with a method speak() that prints a generic message. Create a child class Dog\n",
        "# that overrides the speak() method to print \"Bark!\".\n",
        "class Animal:\n",
        "    def speak(self):\n",
        "      print(\"Animal sound\")\n",
        "class Dog(Animal):\n",
        "    def speak(self):\n",
        "      print(\"Bark!\")\n",
        "dg = Dog()\n",
        "dg.speak()"
      ],
      "metadata": {
        "colab": {
          "base_uri": "https://localhost:8080/"
        },
        "id": "sf1li_sxDGYk",
        "outputId": "20f6efcb-621a-49be-a5a5-a6da12a6a861"
      },
      "execution_count": 1,
      "outputs": [
        {
          "output_type": "stream",
          "name": "stdout",
          "text": [
            "Bark!\n"
          ]
        }
      ]
    },
    {
      "cell_type": "code",
      "source": [
        "from pathlib import WindowsPath\n",
        "#2. Write a program to create an abstract class Shape with a method area(). Derive classes Circle and Rectangle\n",
        "# from it and implement the area() method in both.\n",
        "from abc import ABC\n",
        "class Shape(ABC):\n",
        "    @abc.abstractmethod\n",
        "    def area(self):\n",
        "      pass\n",
        "#Derieved class\n",
        "class Circle(Shape):\n",
        "    def __init__(self, radius):\n",
        "      self.radius = radius\n",
        "    def area(self):\n",
        "      radius = self.radius\n",
        "      return 3.14 * radius ** 2\n",
        "\n",
        "class Rectangle(Shape):\n",
        "    def __init__(self, length, width):\n",
        "      self.length = length\n",
        "      self.width = width\n",
        "    def area(self):\n",
        "      length = self.length\n",
        "      width = self.width\n",
        "      return length * width\n",
        "cir = Circle(5)\n",
        "print(\"Area of Circle: \", cir.area())\n",
        "\n",
        "rec = Rectangle(9, 14)\n",
        "print(\"Area of rectangle: \", rec.area())"
      ],
      "metadata": {
        "colab": {
          "base_uri": "https://localhost:8080/"
        },
        "id": "hNJwuqQHGShQ",
        "outputId": "b1c008b3-2f30-4266-d44b-261fb3297f16"
      },
      "execution_count": 8,
      "outputs": [
        {
          "output_type": "stream",
          "name": "stdout",
          "text": [
            "Area of Circle:  78.5\n",
            "Area of rectangle:  126\n"
          ]
        }
      ]
    },
    {
      "cell_type": "code",
      "source": [
        "#3. Implement a multi-level inheritance scenario where a class Vehicle has an attribute type. Derive a class Car\n",
        "# and further derive a class ElectricCar that adds a battery attribute.\n",
        "class Vehicle:\n",
        "  def __init__(self, att_type):\n",
        "    self.att_type = att_type\n",
        "\n",
        "  def display(self):\n",
        "    print(f\"Vehicle Type: {self.att_type}\")\n",
        "class Car(Vehicle):\n",
        "  def __init__(self, att_type, car_type):\n",
        "    super().__init__(att_type)\n",
        "    self.car_type = car_type\n",
        "  def display_Car(self):\n",
        "    print(f\"Car Type: {self.car_type}\")\n",
        "class ElectricCar(Car):\n",
        "  def __init__(self, att_type, car_type, battery_cap):\n",
        "     super().__init__(att_type, car_type)\n",
        "     self.battery_cap = battery_cap\n",
        "  def display_electric(self):\n",
        "    print(f\"Battery Capacity: {self.battery_cap} kWH\")\n",
        "\n",
        "tesla = ElectricCar(\"Four Wheeler\", \"Electric\", 75)\n",
        "tesla.display()\n",
        "tesla.display_Car()\n",
        "tesla.display_electric()\n"
      ],
      "metadata": {
        "colab": {
          "base_uri": "https://localhost:8080/"
        },
        "id": "jqszT0uhIvpt",
        "outputId": "a1e8fed7-de9d-4b45-ddfd-b85e4f1c30d5"
      },
      "execution_count": 12,
      "outputs": [
        {
          "output_type": "stream",
          "name": "stdout",
          "text": [
            "Vehicle Type: Four Wheeler\n",
            "Car Type: Electric\n",
            "Battery Capacity: 75 kWH\n"
          ]
        }
      ]
    },
    {
      "cell_type": "code",
      "source": [
        "#4. Demonstrate polymorphism by creating a base class Bird with a method fly(). Create two derived classes\n",
        "# Sparrow and Penguin that override the fly() method.\n",
        "class Bird:\n",
        "  def fly(self):\n",
        "    print(\"Birds can fly\")\n",
        "class Sparrow(Bird):\n",
        "  def fly(self):\n",
        "    print(\"Sparrows can fly\")\n",
        "class Penguin(Bird):\n",
        "  def fly(self):\n",
        "    print(\"Penguins cannot fly\")\n",
        "\n",
        "sparrow = Sparrow()\n",
        "sparrow.fly()\n",
        "\n",
        "penguin = Penguin()\n",
        "penguin.fly()"
      ],
      "metadata": {
        "colab": {
          "base_uri": "https://localhost:8080/"
        },
        "id": "V3VFGWUHNc7o",
        "outputId": "4518f31a-1c34-49ce-d1c6-d5fec9eb81f0"
      },
      "execution_count": 14,
      "outputs": [
        {
          "output_type": "stream",
          "name": "stdout",
          "text": [
            "Sparrows can fly\n",
            "Penguins cannot fly\n"
          ]
        }
      ]
    },
    {
      "cell_type": "code",
      "source": [
        "#5. Write a program to demonstrate encapsulation by creating a class BankAccount with private attributes\n",
        "# balance and methods to deposit, withdraw, and check balance.\n",
        "class BankAccount:\n",
        "  def __init__(self, balance):\n",
        "    self.__balance = balance\n",
        "  def deposit(self, amount):\n",
        "    self.__balance += amount\n",
        "  def withdraw(self, amount):\n",
        "    if amount <= self.__balance:\n",
        "      self.__balance -= amount\n",
        "    else:\n",
        "      print(\"Insufficient balance\")\n",
        "  def checkBalance(self):\n",
        "    return self.__balance\n",
        "acc1 = BankAccount(5000)\n",
        "acc1.checkBalance()"
      ],
      "metadata": {
        "colab": {
          "base_uri": "https://localhost:8080/"
        },
        "id": "Ami8MwINOhHm",
        "outputId": "ca770910-26d6-499d-c74c-b757be353c1d"
      },
      "execution_count": 17,
      "outputs": [
        {
          "output_type": "execute_result",
          "data": {
            "text/plain": [
              "5000"
            ]
          },
          "metadata": {},
          "execution_count": 17
        }
      ]
    },
    {
      "cell_type": "code",
      "source": [
        "#6. Demonstrate runtime polymorphism using a method play() in a base class Instrument. Derive classes Guitar\n",
        "# and Piano that implement their own version of play().\n",
        "class Instrument:\n",
        "  def play(self):\n",
        "    print(\"Instrument is playing\")\n",
        "class Guitar(Instrument):\n",
        "  def play(self):\n",
        "    print(\"Guitar is playing\")\n",
        "class Piano(Instrument):\n",
        "  def play(self):\n",
        "    print(\"Piano is playing\")\n",
        "obj = Guitar()\n",
        "obj.play()"
      ],
      "metadata": {
        "colab": {
          "base_uri": "https://localhost:8080/"
        },
        "id": "Xuvc00IxPiGp",
        "outputId": "d84d347e-f92c-4416-edca-c75e97b8c84a"
      },
      "execution_count": 19,
      "outputs": [
        {
          "output_type": "stream",
          "name": "stdout",
          "text": [
            "Guitar is playing\n"
          ]
        }
      ]
    },
    {
      "cell_type": "code",
      "source": [
        "#7. Create a class MathOperations with a class method add_numbers() to add two numbers and a static\n",
        "# method subtract_numbers() to subtract two numbers.\n",
        "class MathOperations:\n",
        "  @classmethod\n",
        "  def add_numbers(cls, num1, num2):\n",
        "    return num1 + num2\n",
        "  @staticmethod\n",
        "  def subtract_numbers(num1, num2):\n",
        "    return num1 - num2\n",
        "MathOperations.add_numbers(5, 10)\n",
        "\n"
      ],
      "metadata": {
        "colab": {
          "base_uri": "https://localhost:8080/"
        },
        "id": "3u_RXJxTQs8N",
        "outputId": "ca66cb4a-006b-47d4-9111-ef5efd934398"
      },
      "execution_count": 24,
      "outputs": [
        {
          "output_type": "execute_result",
          "data": {
            "text/plain": [
              "15"
            ]
          },
          "metadata": {},
          "execution_count": 24
        }
      ]
    },
    {
      "cell_type": "code",
      "source": [
        "#8. Implement a class Person with a class method to count the total number of persons created.\n",
        "class Person:\n",
        "  count = 0\n",
        "  def __init__(self, name, age):\n",
        "    self.name = name\n",
        "    self.age = age\n",
        "    Person.count += 1\n",
        "  @classmethod\n",
        "  def total_persons(cls):\n",
        "    return cls.count\n",
        "per = Person(\"Kaif\", \"24\")\n",
        "per = Person(\"Ajay\", \"35\")\n",
        "per.total_persons()"
      ],
      "metadata": {
        "colab": {
          "base_uri": "https://localhost:8080/"
        },
        "id": "7IjHQReKRHxK",
        "outputId": "c8cfabe0-9d9b-43fb-c4e9-498bb59b016e"
      },
      "execution_count": 26,
      "outputs": [
        {
          "output_type": "execute_result",
          "data": {
            "text/plain": [
              "2"
            ]
          },
          "metadata": {},
          "execution_count": 26
        }
      ]
    },
    {
      "cell_type": "code",
      "source": [
        "#9. Write a class Fraction with attributes numerator and denominator. Override the str method to display the\n",
        "# fraction as \"numerator/denominator\".\n",
        "class Fraction:\n",
        "  def __init__(self, numerator, denominator):\n",
        "    self.numerator = numerator\n",
        "    self.denominator = denominator\n",
        "  def __str__(self):\n",
        "    return f\"{self.numerator}/{self.denominator}\"\n",
        "fract = Fraction(9, 91)\n",
        "print(fract)"
      ],
      "metadata": {
        "colab": {
          "base_uri": "https://localhost:8080/"
        },
        "id": "ps6RZF7ASfcn",
        "outputId": "25376d0d-deed-435e-e69e-9cb5910d368d"
      },
      "execution_count": 29,
      "outputs": [
        {
          "output_type": "stream",
          "name": "stdout",
          "text": [
            "9/91\n"
          ]
        }
      ]
    },
    {
      "cell_type": "code",
      "source": [
        "#10. Demonstrate operator overloading by creating a class Vector and overriding the add method to add two\n",
        "# vectors.\n",
        "class Vector:\n",
        "  def __init__(self, x, y):\n",
        "    self.x = x\n",
        "    self.y = y\n",
        "\n",
        "  def __add__(self, other):\n",
        "    return Vector(self.x + other.x, self.y + other.y)\n",
        "\n",
        "  def __str__(self):\n",
        "    return f\"({self.x}, {self.y})\"\n",
        "\n",
        "v1 = Vector(5, 9)\n",
        "v2 = Vector(19, 12)\n",
        "v3 = v1 + v2\n",
        "print(v3)\n"
      ],
      "metadata": {
        "colab": {
          "base_uri": "https://localhost:8080/"
        },
        "id": "58Ld_YRbTJHZ",
        "outputId": "559d4810-b293-461f-fe18-3ac54ed5af8d"
      },
      "execution_count": 31,
      "outputs": [
        {
          "output_type": "stream",
          "name": "stdout",
          "text": [
            "(24, 21)\n"
          ]
        }
      ]
    },
    {
      "cell_type": "code",
      "source": [
        "#11. Create a class Person with attributes name and age. Add a method greet() that prints \"Hello, my name is\n",
        "# {name} and I am {age} years old.\"\n",
        "class Person:\n",
        "  def __init__(self, name, age):\n",
        "    self.name = name\n",
        "    self.age = age\n",
        "  def greet(self):\n",
        "    print(f\"Hello, my name is {self.name} and I am {self.age} years old.\")\n",
        "per = Person(\"Kaif\", 24)\n",
        "per.greet()"
      ],
      "metadata": {
        "colab": {
          "base_uri": "https://localhost:8080/"
        },
        "id": "KrhU_d2Acsi2",
        "outputId": "1294ebc1-7651-4639-ec62-4dc21938356e"
      },
      "execution_count": 32,
      "outputs": [
        {
          "output_type": "stream",
          "name": "stdout",
          "text": [
            "Hello, my name is Kaif and I am 24 years old.\n"
          ]
        }
      ]
    },
    {
      "cell_type": "code",
      "source": [
        "#12. Implement a class Student with attributes name and grades. Create a method average_grade() to compute\n",
        "# the average of the grades.\n",
        "class Student:\n",
        "  def __init__(self, name, grades):\n",
        "    self.name = name\n",
        "    self.grades = grades\n",
        "  def average_grade(self):\n",
        "    if not self.grades:\n",
        "      return 0\n",
        "    return sum(self.grades) / len(self.grades)\n",
        "\n",
        "std = Student(\"Ajay\", [95, 80, 94, 87, 98])\n",
        "print(f\"Average grade of {std.name} is: {std.average_grade()}\")"
      ],
      "metadata": {
        "colab": {
          "base_uri": "https://localhost:8080/"
        },
        "id": "M6gEU-R2dpna",
        "outputId": "87ab4e0c-96c3-4a99-ce6e-99e92ef79c50"
      },
      "execution_count": 36,
      "outputs": [
        {
          "output_type": "stream",
          "name": "stdout",
          "text": [
            "Average grade of Ajay is: 90.8\n"
          ]
        }
      ]
    },
    {
      "cell_type": "code",
      "source": [
        "#13. Create a class Rectangle with methods set_dimensions() to set the dimensions and area() to calculate the\n",
        "# area.\n",
        "class Rectangle:\n",
        "  def __init__(self):\n",
        "    self.length = 0\n",
        "    self.width = 0\n",
        "  def set_dimensions(self, length, width):\n",
        "    self.length = length\n",
        "    self.width = width\n",
        "  def area(self):\n",
        "    return self.length * self.width\n",
        "\n",
        "rec = Rectangle()\n",
        "rec.set_dimensions(19, 12)\n",
        "print(rec.area())"
      ],
      "metadata": {
        "colab": {
          "base_uri": "https://localhost:8080/"
        },
        "id": "1OegFIcJe8ZU",
        "outputId": "61130898-50c7-421c-d723-2cba9635c6cb"
      },
      "execution_count": 40,
      "outputs": [
        {
          "output_type": "stream",
          "name": "stdout",
          "text": [
            "228\n"
          ]
        }
      ]
    },
    {
      "cell_type": "code",
      "source": [
        "#14. Create a class Employee with a method calculate_salary() that computes the salary based on hours worked\n",
        "# and hourly rate. Create a derived class Manager that adds a bonus to the salary.\n",
        "class Employee:\n",
        "  def __init__(self, name, hours_worked, hourly_rate):\n",
        "    self.name = name\n",
        "    self.hours_worked = hours_worked\n",
        "    self.hourly_rate = hourly_rate\n",
        "  def calculate_salary(self):\n",
        "    return self.hours_worked * self.hourly_rate\n",
        "\n",
        "class Manager(Employee):\n",
        "  def __init__(self, name, hours_worked, hourly_rate, bonus):\n",
        "    super().__init__(name, hours_worked, hourly_rate)\n",
        "    self.bonus = bonus\n",
        "\n",
        "  def calculate_salary(self):\n",
        "    base_salary = super().calculate_salary()\n",
        "    return base_salary + self.bonus\n",
        "emp = Employee(\"Bijay\", 12, 15)\n",
        "print(\"The salary without bonus:\", emp.calculate_salary())\n",
        "\n",
        "mgr = Manager(\"Ajay\", 15, 22, 4500)\n",
        "print(\"The salary with bonus is: \", mgr.calculate_salary())\n"
      ],
      "metadata": {
        "colab": {
          "base_uri": "https://localhost:8080/"
        },
        "id": "x-TZphZJgS-p",
        "outputId": "4dee6d1c-ab7c-4873-ca91-26b0ccdb8ffb"
      },
      "execution_count": 46,
      "outputs": [
        {
          "output_type": "stream",
          "name": "stdout",
          "text": [
            "The salary without bonus: 180\n",
            "The salary with bonus is:  4830\n"
          ]
        }
      ]
    },
    {
      "cell_type": "code",
      "source": [
        "#15. Create a class Product with attributes name, price, and quantity. Implement a method total_price() that\n",
        "# calculates the total price of the product.\n",
        "class Product:\n",
        "  def __init__(self, name, price, quantity):\n",
        "    self.name = name\n",
        "    self.price = price\n",
        "    self.quantity = quantity\n",
        "  def total_price(self):\n",
        "    return self.price * self.quantity\n",
        "prod = Product(\"Iron\", 1500, 12)\n",
        "print(prod.total_price())"
      ],
      "metadata": {
        "colab": {
          "base_uri": "https://localhost:8080/"
        },
        "id": "dR_EJqqbictU",
        "outputId": "ebc0d3a1-a830-489e-e3b6-a499d09caea5"
      },
      "execution_count": 48,
      "outputs": [
        {
          "output_type": "stream",
          "name": "stdout",
          "text": [
            "18000\n"
          ]
        }
      ]
    },
    {
      "cell_type": "code",
      "source": [
        "#16. Create a class Animal with an abstract method sound(). Create two derived classes Cow and Sheep that\n",
        "# implement the sound() method.\n",
        "import abc\n",
        "class Animal:\n",
        "  @abc.abstractmethod\n",
        "  def sound(self):\n",
        "    pass\n",
        "class Cow(Animal):\n",
        "  def sound(self):\n",
        "    print(\"Moo\")\n",
        "\n",
        "class Sheep(Animal):\n",
        "  def sound(self):\n",
        "    print(\"Boo\")\n",
        "cw = Cow()\n",
        "cw.sound()"
      ],
      "metadata": {
        "colab": {
          "base_uri": "https://localhost:8080/"
        },
        "id": "NJZD1twsjiwC",
        "outputId": "a8ea8acf-3188-4f23-e537-a2dac2813182"
      },
      "execution_count": 49,
      "outputs": [
        {
          "output_type": "stream",
          "name": "stdout",
          "text": [
            "Moo\n"
          ]
        }
      ]
    },
    {
      "cell_type": "code",
      "source": [
        "#17. Create a class Book with attributes title, author, and year_published. Add a method get_book_info() that\n",
        "# returns a formatted string with the book's details.\n",
        "class Book:\n",
        "  def __init__(self, title, author, year_published):\n",
        "    self.title = title\n",
        "    self.author = author\n",
        "    self.year_published = year_published\n",
        "\n",
        "  def get_book_info(self):\n",
        "    return f\"Title: {self.title}, Author: {self.author}, Year Published: {self.year_published}\"\n",
        "\n",
        "bk = Book(\"Data Science\", \"VK Jain\", 2023)\n",
        "print(bk.get_book_info())"
      ],
      "metadata": {
        "colab": {
          "base_uri": "https://localhost:8080/"
        },
        "id": "rjkxJo8NlDco",
        "outputId": "e0773406-3c34-4af3-f3d2-adceffe031c9"
      },
      "execution_count": 54,
      "outputs": [
        {
          "output_type": "stream",
          "name": "stdout",
          "text": [
            "Title: Data Science, Author: VK Jain, Year Published: 2023\n"
          ]
        }
      ]
    },
    {
      "cell_type": "code",
      "source": [
        "#18. Create a class House with attributes address and price. Create a derived class Mansion that adds an\n",
        "# attribute number_of_rooms.\n",
        "class House:\n",
        "  def __init__(self, address, price):\n",
        "    self.address = address\n",
        "    self.price = price\n",
        "\n",
        "  def get_house_info(self):\n",
        "    return f\"Address: {self.address}, Price: {self.price}\"\n",
        "class Mansion(House):\n",
        "  def __init__(self, address, price, number_of_rooms):\n",
        "    super().__init__(address, price)\n",
        "    self.number_of_rooms = number_of_rooms\n",
        "\n",
        "  def get_mansion_info(self):\n",
        "    return f\"Address: {self.address}, Price: {self.price}, Number of Rooms: {self.number_of_rooms}\"\n",
        "h = House(\"Abubakar nagar\", 15000000)\n",
        "h.get_house_info()\n",
        "\n",
        "m = Mansion(\"Abubakar nagar\", 15000000, 12)\n",
        "m.get_mansion_info()"
      ],
      "metadata": {
        "colab": {
          "base_uri": "https://localhost:8080/",
          "height": 35
        },
        "id": "8lFshKg8lv3O",
        "outputId": "4c5a4690-62bd-4ccf-d1ab-f6464dc1c51b"
      },
      "execution_count": 51,
      "outputs": [
        {
          "output_type": "execute_result",
          "data": {
            "text/plain": [
              "'Address: Abubakar nagar, Price: 15000000, Number of Rooms: 12'"
            ],
            "application/vnd.google.colaboratory.intrinsic+json": {
              "type": "string"
            }
          },
          "metadata": {},
          "execution_count": 51
        }
      ]
    }
  ]
}