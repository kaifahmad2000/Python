{
  "nbformat": 4,
  "nbformat_minor": 0,
  "metadata": {
    "colab": {
      "provenance": []
    },
    "kernelspec": {
      "name": "python3",
      "display_name": "Python 3"
    },
    "language_info": {
      "name": "python"
    }
  },
  "cells": [
    {
      "cell_type": "markdown",
      "source": [
        "1. What is Python, and why is it popular ?\n",
        "-> Python is an interpreter type programming language i.e., easy to understand and write. It is popular because:-\n",
        "i) it is compatible with various programming paradigms, such as procedural, object oriented and functional programming.\n",
        "ii) python has a large and active community of developers and extensive standard library (about 137000) for various domain.\n",
        "\n",
        "2. What is an interpreter in Python ?\n",
        "->  Interpreter is a program that read and executes codes line by line rather than compiling the entire code at one go.\n",
        "Python interpreter translate each line of code into machine instructions and executes it immediately.\n",
        "\n",
        "3. What are pre-defined keywords in Python ?\n",
        "-> Keywords are case sensitive and special words in Python that have a special meaning and cannot be used as identifiers.Some examples of keywords are: print, if, else, while, for, def etc.\n",
        "\n",
        "4. Can keywords be used as variable names ?\n",
        "-> Technically Yes, keywords can be used as a variable name but it is not advisable because it may cause unexpected error or keywords may refuse to execute its own predefined command.\n",
        "To restore it we have to restart the Kernel.\n",
        "\n",
        "5. What is mutability in Python ?\n",
        "-> In Python, there are some objects that are mutable and some are immutable.\n",
        "Mutability allows us to modify the data after the creation like lists and dictionaries.\n",
        "\n",
        "6. Why are lists mutable, but tuples are immutable ?\n",
        "-> Lists are mutable because it can be modified after the creation while tuples cannot.\n",
        "\n",
        "7. What is the difference between “==” and “is” operators in Python ?\n",
        "-> Equality operator(==) checks whether the two variable has the same value while Identity operator(Is) checks whether the two variable has the same memory location i.e., refer to the same object or not.\n",
        "\n",
        "8. What are logical operators in Python ?\n",
        "-> Logical operators performs the logical operations between the variables like: AND, OR, NOT.\n",
        "\n",
        "9. What is type casting in Python ?\n",
        "-> Type casting allows us to change the data type of the variable to perform some specific data type operations.\n",
        "Python provides some built in functions for type casting like: int(),float(),list(),tuple()etc.\n",
        "\n",
        "10. What is the difference between implicit and explicit type casting ?\n",
        "-> When Python automatically converts one data type to another without the user intervention, it is called implicit type casting whereas if user converts the data type manually it is called explicit type casting.\n",
        "\n",
        "11. What is the purpose of conditional statements in Python ?\n",
        "-> The main purpose of conditional statements is to execute code based on one or more conditions.Python supports if-else, elif, and else statement to control the flow of execution.\n",
        "\n",
        "12. How does the elif statement work ?\n",
        "-> Else-if(elif) statement is used when there are more than two conditions to control the flow of execution.For example:\n",
        "marks = 85\n",
        "if(marks > 90):\n",
        "  print(\"Grade: A+\")\n",
        "elif(marks > 80):\n",
        "  print(\"Grade: A\")\n",
        "elseif(marks > 70):\n",
        "  print(\"Grade: B+\")\n",
        "elif(marks > 60):\n",
        "  print(\"Grade: B\")\n",
        "else:\n",
        "  print(\"Grade: C\")\n",
        "\n",
        "13. What is the difference between for and while loops ?\n",
        "-> \"for\" loop are used to iterates over a sequence of elements whereas \"while\" loop is used for executing code until a certain condition becomes False.\n",
        "\n",
        "14.  Describe a scenario where a while loop is more suitable than a for loop.\n",
        "->\n",
        "num = 1\n",
        "while(num <= 5):\n",
        "  print(num)\n",
        "  num += 1\n",
        "Here, we are using while loop because it is based on some condition,\n",
        "for loop is more feasible when their is some fixed range."
      ],
      "metadata": {
        "id": "PEHyV1HAnHmH"
      }
    },
    {
      "cell_type": "code",
      "source": [
        "#1. Write a Python program to print \"Hello, World!\".\n",
        "print(\"Hello, World!\")"
      ],
      "metadata": {
        "colab": {
          "base_uri": "https://localhost:8080/"
        },
        "id": "FdwuLKs9p41J",
        "outputId": "21dc540e-d683-451c-cc6f-3b33db8fa014"
      },
      "execution_count": 1,
      "outputs": [
        {
          "output_type": "stream",
          "name": "stdout",
          "text": [
            "Hello, World!\n"
          ]
        }
      ]
    },
    {
      "cell_type": "code",
      "source": [
        "#2. Write a Python program that displays your name and age.\n",
        "name = \"Kaif Shakeel\"\n",
        "age = 24\n",
        "\n",
        "print(\"Your name is: \"+name)\n",
        "print(\"Your age is: \"+str(age))"
      ],
      "metadata": {
        "colab": {
          "base_uri": "https://localhost:8080/"
        },
        "id": "b2Giu5dbrmuJ",
        "outputId": "cec7f5b3-816e-4bea-804b-9eb38e85b9aa"
      },
      "execution_count": 6,
      "outputs": [
        {
          "output_type": "stream",
          "name": "stdout",
          "text": [
            "Your name is: Kaif Shakeel\n",
            "Your age is: 24\n"
          ]
        }
      ]
    },
    {
      "cell_type": "code",
      "source": [
        "#3. Write code to print all the pre-defined keywords in Python using the keyword\n",
        "#library\n",
        "import keyword\n",
        "print(keyword.kwlist)"
      ],
      "metadata": {
        "colab": {
          "base_uri": "https://localhost:8080/"
        },
        "id": "lXqja97P7CVT",
        "outputId": "867cbfe0-bb42-44a8-ab34-a69008f821d2"
      },
      "execution_count": 9,
      "outputs": [
        {
          "output_type": "stream",
          "name": "stdout",
          "text": [
            "['False', 'None', 'True', 'and', 'as', 'assert', 'async', 'await', 'break', 'class', 'continue', 'def', 'del', 'elif', 'else', 'except', 'finally', 'for', 'from', 'global', 'if', 'import', 'in', 'is', 'lambda', 'nonlocal', 'not', 'or', 'pass', 'raise', 'return', 'try', 'while', 'with', 'yield']\n"
          ]
        }
      ]
    },
    {
      "cell_type": "code",
      "source": [
        "#4. Write a program that checks if a given word is a Python keyword.\n",
        "import keyword\n",
        "s = 'else'\n",
        "if keyword.iskeyword(s):\n",
        "  print(s+\" is a keyword\")\n",
        "else:\n",
        "  print(s+\" is not a kryword\")\n"
      ],
      "metadata": {
        "colab": {
          "base_uri": "https://localhost:8080/"
        },
        "id": "gT0G3IzT7t-m",
        "outputId": "79c717e4-8d6b-4878-d513-ea8b71cf5801"
      },
      "execution_count": 13,
      "outputs": [
        {
          "output_type": "stream",
          "name": "stdout",
          "text": [
            "else is a keyword\n"
          ]
        }
      ]
    },
    {
      "cell_type": "code",
      "source": [
        "#5. Create a list and tuple in Python, and demonstrate how attempting to change\n",
        "# an element works differently for each.\n",
        "my_list = [2,5,70,\"Anatomy\"]\n",
        "my_tuple = (\"new\",\"line\",4,70)\n",
        "\n",
        "my_list[2] = 7\n",
        "print(f\"list after changes: {my_list}\")\n",
        "\n",
        "my_tuple[1] = \"circular\"\n",
        "print(f\"tuple after changes: {my_tuple}\")\n",
        "#this will give error as tuples are immutable.\n"
      ],
      "metadata": {
        "colab": {
          "base_uri": "https://localhost:8080/",
          "height": 228
        },
        "id": "yybivtti9DqE",
        "outputId": "ad736ac7-9a48-4041-9225-4287a2c5afde"
      },
      "execution_count": 26,
      "outputs": [
        {
          "output_type": "stream",
          "name": "stdout",
          "text": [
            "list after changes: [2, 5, 7, 'Anatomy']\n"
          ]
        },
        {
          "output_type": "error",
          "ename": "TypeError",
          "evalue": "'tuple' object does not support item assignment",
          "traceback": [
            "\u001b[0;31m---------------------------------------------------------------------------\u001b[0m",
            "\u001b[0;31mTypeError\u001b[0m                                 Traceback (most recent call last)",
            "\u001b[0;32m<ipython-input-26-ccd5ad918732>\u001b[0m in \u001b[0;36m<cell line: 0>\u001b[0;34m()\u001b[0m\n\u001b[1;32m      6\u001b[0m \u001b[0mprint\u001b[0m\u001b[0;34m(\u001b[0m\u001b[0;34mf\"list after changes: {my_list}\"\u001b[0m\u001b[0;34m)\u001b[0m\u001b[0;34m\u001b[0m\u001b[0;34m\u001b[0m\u001b[0m\n\u001b[1;32m      7\u001b[0m \u001b[0;34m\u001b[0m\u001b[0m\n\u001b[0;32m----> 8\u001b[0;31m \u001b[0mmy_tuple\u001b[0m\u001b[0;34m[\u001b[0m\u001b[0;36m1\u001b[0m\u001b[0;34m]\u001b[0m \u001b[0;34m=\u001b[0m \u001b[0;34m\"circular\"\u001b[0m\u001b[0;34m\u001b[0m\u001b[0;34m\u001b[0m\u001b[0m\n\u001b[0m\u001b[1;32m      9\u001b[0m \u001b[0mprint\u001b[0m\u001b[0;34m(\u001b[0m\u001b[0;34mf\"tuple after changes: {my_tuple}\"\u001b[0m\u001b[0;34m)\u001b[0m\u001b[0;34m\u001b[0m\u001b[0;34m\u001b[0m\u001b[0m\n\u001b[1;32m     10\u001b[0m \u001b[0;31m#this will give error as tuples are immutable.\u001b[0m\u001b[0;34m\u001b[0m\u001b[0;34m\u001b[0m\u001b[0m\n",
            "\u001b[0;31mTypeError\u001b[0m: 'tuple' object does not support item assignment"
          ]
        }
      ]
    },
    {
      "cell_type": "code",
      "source": [
        "#6. Write a function to demonstrate the behavior of mutable and immutable\n",
        "#arguments.\n",
        "list_cont = [5, 8, 6]\n",
        "list_cont[1] = 10\n",
        "list_cont.append(50)\n",
        "print(list_cont)\n",
        "\n",
        "name = \"kaif\"\n",
        "name[0] = \"K\"\n",
        "#Cannot run because String is immutable."
      ],
      "metadata": {
        "colab": {
          "base_uri": "https://localhost:8080/",
          "height": 210
        },
        "id": "UVgdCo3K_ZAT",
        "outputId": "3fa51b38-ccd9-4da3-d755-51c6f43f208e"
      },
      "execution_count": 31,
      "outputs": [
        {
          "output_type": "stream",
          "name": "stdout",
          "text": [
            "[5, 10, 6, 50]\n"
          ]
        },
        {
          "output_type": "error",
          "ename": "TypeError",
          "evalue": "'str' object does not support item assignment",
          "traceback": [
            "\u001b[0;31m---------------------------------------------------------------------------\u001b[0m",
            "\u001b[0;31mTypeError\u001b[0m                                 Traceback (most recent call last)",
            "\u001b[0;32m<ipython-input-31-1ee9987c6f33>\u001b[0m in \u001b[0;36m<cell line: 0>\u001b[0;34m()\u001b[0m\n\u001b[1;32m      6\u001b[0m \u001b[0;34m\u001b[0m\u001b[0m\n\u001b[1;32m      7\u001b[0m \u001b[0mname\u001b[0m \u001b[0;34m=\u001b[0m \u001b[0;34m\"kaif\"\u001b[0m\u001b[0;34m\u001b[0m\u001b[0;34m\u001b[0m\u001b[0m\n\u001b[0;32m----> 8\u001b[0;31m \u001b[0mname\u001b[0m\u001b[0;34m[\u001b[0m\u001b[0;36m0\u001b[0m\u001b[0;34m]\u001b[0m \u001b[0;34m=\u001b[0m \u001b[0;34m\"K\"\u001b[0m\u001b[0;34m\u001b[0m\u001b[0;34m\u001b[0m\u001b[0m\n\u001b[0m\u001b[1;32m      9\u001b[0m \u001b[0;31m#Cannot run because String is immutable.\u001b[0m\u001b[0;34m\u001b[0m\u001b[0;34m\u001b[0m\u001b[0m\n",
            "\u001b[0;31mTypeError\u001b[0m: 'str' object does not support item assignment"
          ]
        }
      ]
    },
    {
      "cell_type": "code",
      "source": [
        "#7. Write a program that performs basic arithmetic operations on two user-input\n",
        "#numbers\n",
        "num1 = int(input(\"Enter the first number: \"))\n",
        "num2 = int(input(\"Enter the second number: \"))\n",
        "addition = num1 + num2\n",
        "multiplication = num1 * num2\n",
        "subtraction = num1 - num2\n",
        "division = num1 / num2\n",
        "print(addition)\n",
        "print(multiplication)\n",
        "print(subtraction)\n",
        "print(division)"
      ],
      "metadata": {
        "colab": {
          "base_uri": "https://localhost:8080/"
        },
        "id": "PJ8u48IIFvTH",
        "outputId": "8341f329-64f9-4a04-a6ea-0f4361df3883"
      },
      "execution_count": 34,
      "outputs": [
        {
          "output_type": "stream",
          "name": "stdout",
          "text": [
            "Enter the first number: 5\n",
            "Enter the second number: 9\n",
            "14\n",
            "45\n",
            "-4\n",
            "0.5555555555555556\n"
          ]
        }
      ]
    },
    {
      "cell_type": "code",
      "source": [
        "#8. Write a program to demonstrate the use of logical operators.\n",
        "a = True\n",
        "b = False\n",
        "\n",
        "if a and b:\n",
        "  print(\"a and b are true\")\n",
        "elif a or b:\n",
        "  print(\"Either a or b is true\")\n",
        "elif not a:\n",
        "  print(\"a is false\")\n",
        "else:\n",
        "  print(\"b is false\")"
      ],
      "metadata": {
        "colab": {
          "base_uri": "https://localhost:8080/"
        },
        "id": "l5FPURxEHZoA",
        "outputId": "33db2b05-13f2-4f60-b2ca-7a3a815eb5a7"
      },
      "execution_count": 36,
      "outputs": [
        {
          "output_type": "stream",
          "name": "stdout",
          "text": [
            "a or b is true\n"
          ]
        }
      ]
    },
    {
      "cell_type": "code",
      "source": [
        "#9. Write a Python program to convert user input from string to integer, float,\n",
        "# and boolean types.\n",
        "num = input(\"Enter a number: \")\n",
        "#to check the type of num variable.\n",
        "print(type(num))\n",
        "\n",
        "#type conversion.\n",
        "print(int(num))\n",
        "print(float(num))\n",
        "print(bool(num))"
      ],
      "metadata": {
        "colab": {
          "base_uri": "https://localhost:8080/"
        },
        "id": "VHjlzLA2Iv59",
        "outputId": "0e0ced7a-8219-40fc-f013-90c4f38a8a9d"
      },
      "execution_count": 11,
      "outputs": [
        {
          "output_type": "stream",
          "name": "stdout",
          "text": [
            "Enter a number: 70\n",
            "<class 'str'>\n",
            "70\n",
            "70.0\n",
            "True\n"
          ]
        }
      ]
    },
    {
      "cell_type": "code",
      "source": [
        "#10. Write code to demonstrate type casting with list elements.\n",
        "my_list = ['5', '7', '0', 1, 2]\n",
        "my_list[0] = int(my_list[0])\n",
        "my_list[1] = float(my_list[1])\n",
        "my_list[2] = bool(my_list[2])\n",
        "print(my_list)"
      ],
      "metadata": {
        "colab": {
          "base_uri": "https://localhost:8080/"
        },
        "id": "RfQ-HKVRxOXl",
        "outputId": "aabe96dc-0cd7-4fac-d8cf-a11f8f538082"
      },
      "execution_count": 16,
      "outputs": [
        {
          "output_type": "stream",
          "name": "stdout",
          "text": [
            "[5, 7.0, True, 1, 2]\n"
          ]
        }
      ]
    },
    {
      "cell_type": "code",
      "source": [
        "#11. Write a program that checks if a number is positive, negative, or zero.\n",
        "num = int(input(\"Enter a number: \"))\n",
        "if num > 0:\n",
        "  print(\"Number is poditive.\")\n",
        "elif num < 0:\n",
        "  print(\"Number is negative.\")\n",
        "else:\n",
        "  print(\"Number is zero.\")"
      ],
      "metadata": {
        "colab": {
          "base_uri": "https://localhost:8080/"
        },
        "id": "gYLKBwXD1OOg",
        "outputId": "f54939ca-d3f5-4ba2-cc54-0c84983e6162"
      },
      "execution_count": 19,
      "outputs": [
        {
          "output_type": "stream",
          "name": "stdout",
          "text": [
            "Enter a number: -240\n",
            "Number is negative.\n"
          ]
        }
      ]
    },
    {
      "cell_type": "code",
      "source": [
        "#12. Write a for loop to print numbers from 1 to 10.\n",
        "num = 1\n",
        "while(num <= 10):\n",
        "  print(num)\n",
        "  num += 1"
      ],
      "metadata": {
        "colab": {
          "base_uri": "https://localhost:8080/"
        },
        "id": "HvjGz-rb2ccU",
        "outputId": "e9f1fde6-5162-4b47-aafd-43705e02e25c"
      },
      "execution_count": 20,
      "outputs": [
        {
          "output_type": "stream",
          "name": "stdout",
          "text": [
            "1\n",
            "2\n",
            "3\n",
            "4\n",
            "5\n",
            "6\n",
            "7\n",
            "8\n",
            "9\n",
            "10\n"
          ]
        }
      ]
    },
    {
      "cell_type": "code",
      "source": [
        "#13. Write a Python program to find the sum of all even numbers\n",
        "#between 1 and 50.\n",
        "num = 1\n",
        "sum = 0\n",
        "while(num <= 50):\n",
        "  if(num % 2 == 0):\n",
        "    sum += num\n",
        "  num += 1\n",
        "print(\"The sum of all even numbers between 1 and 50 is: \", sum)"
      ],
      "metadata": {
        "colab": {
          "base_uri": "https://localhost:8080/"
        },
        "id": "QFFhiJyC24NI",
        "outputId": "dcc431f1-6872-471b-e990-a1576f70619a"
      },
      "execution_count": 31,
      "outputs": [
        {
          "output_type": "stream",
          "name": "stdout",
          "text": [
            "The sum of all even numbers between 1 and 50 is:  650\n"
          ]
        }
      ]
    },
    {
      "cell_type": "code",
      "source": [
        "#14. Write a program to reverse a string using a while loop.\n",
        "s = \"Hello\"\n",
        "reversed_s = \"\"\n",
        "length = len(s) - 1\n",
        "while length >= 0:\n",
        "        reversed_s += s[length]\n",
        "        length -= 1\n",
        "print(reversed_s)"
      ],
      "metadata": {
        "colab": {
          "base_uri": "https://localhost:8080/"
        },
        "id": "OqAsNNz03sGz",
        "outputId": "b578cba4-440a-41bd-880e-cf562daf8c0d"
      },
      "execution_count": 36,
      "outputs": [
        {
          "output_type": "stream",
          "name": "stdout",
          "text": [
            "olleH\n"
          ]
        }
      ]
    },
    {
      "cell_type": "code",
      "source": [
        "#15. Write a Python program to calculate the factorial of a number provided by\n",
        "# the user using a while loop.\n",
        "num = int(input(\"Enter a number: \"))\n",
        "fact_num = 1\n",
        "while(num > 0):\n",
        "  fact_num *= num\n",
        "  num -= 1\n",
        "print(\"The factorial is: \",fact_num)"
      ],
      "metadata": {
        "colab": {
          "base_uri": "https://localhost:8080/"
        },
        "id": "kqNdZP3l4eJv",
        "outputId": "728bb0a8-e4c9-4f8f-aec9-1b056969b4a2"
      },
      "execution_count": 43,
      "outputs": [
        {
          "output_type": "stream",
          "name": "stdout",
          "text": [
            "Enter a number: 28\n",
            "The factorial is:  304888344611713860501504000000\n"
          ]
        }
      ]
    }
  ]
}