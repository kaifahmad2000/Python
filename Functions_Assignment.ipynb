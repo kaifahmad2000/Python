{
  "nbformat": 4,
  "nbformat_minor": 0,
  "metadata": {
    "colab": {
      "provenance": []
    },
    "kernelspec": {
      "name": "python3",
      "display_name": "Python 3"
    },
    "language_info": {
      "name": "python"
    }
  },
  "cells": [
    {
      "cell_type": "markdown",
      "source": [
        "1. What is the difference between a function and a method in Python?\n",
        "-> In python, functions are independent block of code that can be called from anywhere, while methods are tied to objects or classes and need an object or class instance to be invoked.\n",
        "For example:\n",
        "def factorial(n):\n",
        "    return 1 if n == 0 else n*factorial(n-1)\n",
        "This is a function.\n",
        "\n",
        "class Employee(object):\n",
        "  def my_method(self):\n",
        "    print(\"I am Kaif\")\n",
        "name = Employee()\n",
        "name.my_method()\n",
        "\n",
        "2. Explain the concept of function arguments and parameters in Python.\n",
        "-> Arguments are the actual values that you pass to the function when you call it. These values replace the parameters defined in the function.\n",
        "ex: sum(1,5)\n",
        "\n",
        "Parameters are variables defined in a function declaration. This act as placeholders for the values (arguments) that will be passed to the function.\n",
        "ex: def sum(a,b)\n",
        "\n",
        "3. What are the different ways to define and call a function in Python?\n",
        "-> There are several ways to define a functions. Some of them are:\n",
        "\n",
        "i) Standard Function: Using def keyword.\n",
        "   def greet(name):\n",
        "      return f\"Hello, {name}!\"\n",
        "   \n",
        "   print(greet(\"Kaif\"))\n",
        "ii) Lambda Functions:\n",
        "    square = lambda x: x**2\n",
        "\n",
        "    print(square(5))\n",
        "iii) Nested Function:\n",
        "    def outer():\n",
        "        def inner():\n",
        "            print('Inside inner function')\n",
        "        inner()\n",
        "    \n",
        "    outer()\n",
        "iv) Recursive Function:\n",
        "    def fact(n):\n",
        "        if n == 0:\n",
        "            return 1\n",
        "        else:\n",
        "            return n * fact(n-1)\n",
        "    \n",
        "4. What is the purpose of the `return` statement in a Python function?\n",
        "-> The return statement in python serves two functions: exiting a function and returning the value.\n",
        "\n",
        "5. What are iterators in Python and how do they differ from iterables?\n",
        "-> An iterator is an object representing a stream of data while Iterable is any python object/sequential structure/ data structure that is capable of returning its members one at a time.\n",
        "\n",
        "6. Explain the concept of generators in Python and how they are defined.\n",
        "-> Generators are a special type of iterable in Python, used to produce a sequence of values lazily, meaning they generate items one at a time as needed, rather than all at once.\n",
        "Ex: def sq_num_generator(n):\n",
        "    for i in range(n):\n",
        "        yield i**2\n",
        "    gen = sq_num_genrator(10)\n",
        "    gen\n",
        "\n",
        "7. What are the advantages of using generators over regular functions?\n",
        "-> Generators are memory efficient, faster for large data and uses yield function rather than return keyword.\n",
        "\n",
        "8. What is a lambda function in Python and when is it typically used?\n",
        "-> Lambda function also known as anonymous function also known as shorthand function. It can take any number of arguments but only one expression.\n",
        "It is used for throwaway function.\n",
        "\n",
        "Example:\n",
        "fib_lambda = lambda n : n if n <= 1 else fib_lambda(n-1) + fib_lambda(n-2)\n",
        "\n",
        "[fib_lambda(i) for i in range(10)]\n",
        "\n",
        "9. Explain the purpose and usage of the 'map()' function in Python.\n",
        "-> Map executes a specified function for each of items of an iterable.\n",
        "syntax >> map(func, *iterables)\n",
        "\n",
        "10. What is the difference between 'map()', 'reduce()', and 'filter()' functions in Python?\n",
        "-> map(): Map executes a specified function for each of items of an iterable.\n",
        "l = [1, 2, 3, 4, 5]\n",
        "\n",
        "def sq(x):\n",
        "    return x ** 2\n",
        "list(map(sq, l))\n",
        "\n",
        "reduce(): Reduce applies a cummulative operation to the iterable.\n",
        "from functools import reduce\n",
        "\n",
        "l = [2, 1, 3, 4, 4, 5, 6]\n",
        "reduce(lambda x, y: x+y, l)\n",
        "\n",
        "filter(): It is used to filter elements from an iterable based on some condition.\n",
        "l = [2, 1, 3, 4, 4, 5, 6]\n",
        "list(filter(lambda x: x%2 == 0, l))\n",
        "\n",
        "11. Using pen & Paper write the internal mechanism for sum operation using  reduce function on this given list:[47,11,42,13];\n",
        "->"
      ],
      "metadata": {
        "id": "CsJIggoqPMzx"
      }
    },
    {
      "cell_type": "code",
      "source": [
        "# 1. Write a Python function that takes a list of numbers as input and returns\n",
        "# the sum of all even numbers in the list.\n",
        "def even_sum(numbers):\n",
        "  sum = 0\n",
        "  for i in numbers:\n",
        "    if i % 2 == 0:\n",
        "      sum += i\n",
        "  return sum\n",
        "lis = [5, 9, 8, 4, 48, 94, 2]\n",
        "even_sum(lis)\n"
      ],
      "metadata": {
        "colab": {
          "base_uri": "https://localhost:8080/"
        },
        "id": "f9Vi8H_blDoO",
        "outputId": "f89fb752-4f17-4172-d33b-4eedd742cae7"
      },
      "execution_count": 3,
      "outputs": [
        {
          "output_type": "execute_result",
          "data": {
            "text/plain": [
              "156"
            ]
          },
          "metadata": {},
          "execution_count": 3
        }
      ]
    },
    {
      "cell_type": "code",
      "source": [
        "# 2. Create a Python function that accepts a string and returns the reverse of that string.\n",
        "def reverse_string(s):\n",
        "  return s[::-1]\n",
        "name = \"Kaif\"\n",
        "reverse_string(name)"
      ],
      "metadata": {
        "colab": {
          "base_uri": "https://localhost:8080/",
          "height": 35
        },
        "id": "47ybs1ibnXiS",
        "outputId": "bad45436-2381-429e-9a34-a4ee74b62b7c"
      },
      "execution_count": 5,
      "outputs": [
        {
          "output_type": "execute_result",
          "data": {
            "text/plain": [
              "'fiaK'"
            ],
            "application/vnd.google.colaboratory.intrinsic+json": {
              "type": "string"
            }
          },
          "metadata": {},
          "execution_count": 5
        }
      ]
    },
    {
      "cell_type": "code",
      "source": [
        "# 3. Implement a Python function that takes a list of integers and returns a new list containing the squares of\n",
        "# each number.\n",
        "def sq_num(numbers):\n",
        "  sq = []\n",
        "  for i in numbers:\n",
        "    sq.append(i**2)\n",
        "  return sq\n",
        "l = [1, 2, 3, 5, 6]\n",
        "sq_num(l)"
      ],
      "metadata": {
        "colab": {
          "base_uri": "https://localhost:8080/"
        },
        "id": "XM5p_9CzoaEW",
        "outputId": "2c350822-d12c-4edb-cf05-6fe9c9830e4f"
      },
      "execution_count": 11,
      "outputs": [
        {
          "output_type": "execute_result",
          "data": {
            "text/plain": [
              "[1, 4, 9, 25, 36]"
            ]
          },
          "metadata": {},
          "execution_count": 11
        }
      ]
    },
    {
      "cell_type": "code",
      "source": [
        "# 4. Write a Python function that checks if a given number is prime or not from 1 to 200.\n",
        "def is_prime(n):\n",
        "  if n <= 1:\n",
        "    return False\n",
        "  for i in range(2, int(n**0.5) + 1):\n",
        "    if n % i == 0:\n",
        "      return False\n",
        "  return True\n",
        "\n",
        "for i in range(1, 200):\n",
        "  if is_prime(i):\n",
        "    print(i, \"is a prime number\")"
      ],
      "metadata": {
        "colab": {
          "base_uri": "https://localhost:8080/"
        },
        "id": "6Jaktw_hpL_Y",
        "outputId": "9d2fab9a-62dd-449c-fd3e-b8e32826facb"
      },
      "execution_count": 13,
      "outputs": [
        {
          "output_type": "stream",
          "name": "stdout",
          "text": [
            "2 is a prime number\n",
            "3 is a prime number\n",
            "5 is a prime number\n",
            "7 is a prime number\n",
            "11 is a prime number\n",
            "13 is a prime number\n",
            "17 is a prime number\n",
            "19 is a prime number\n",
            "23 is a prime number\n",
            "29 is a prime number\n",
            "31 is a prime number\n",
            "37 is a prime number\n",
            "41 is a prime number\n",
            "43 is a prime number\n",
            "47 is a prime number\n",
            "53 is a prime number\n",
            "59 is a prime number\n",
            "61 is a prime number\n",
            "67 is a prime number\n",
            "71 is a prime number\n",
            "73 is a prime number\n",
            "79 is a prime number\n",
            "83 is a prime number\n",
            "89 is a prime number\n",
            "97 is a prime number\n",
            "101 is a prime number\n",
            "103 is a prime number\n",
            "107 is a prime number\n",
            "109 is a prime number\n",
            "113 is a prime number\n",
            "127 is a prime number\n",
            "131 is a prime number\n",
            "137 is a prime number\n",
            "139 is a prime number\n",
            "149 is a prime number\n",
            "151 is a prime number\n",
            "157 is a prime number\n",
            "163 is a prime number\n",
            "167 is a prime number\n",
            "173 is a prime number\n",
            "179 is a prime number\n",
            "181 is a prime number\n",
            "191 is a prime number\n",
            "193 is a prime number\n",
            "197 is a prime number\n",
            "199 is a prime number\n"
          ]
        }
      ]
    },
    {
      "cell_type": "code",
      "source": [
        "# 5. Create an iterator class in Python that generates the Fibonacci sequence up to a specified number of\n",
        "# terms.\n",
        "def fib(n):\n",
        "    a = 0\n",
        "    b = 1\n",
        "    for i in range(n):\n",
        "        yield a\n",
        "        a, b = b, a+b\n",
        "gene = fib(100)"
      ],
      "metadata": {
        "id": "olIufrYIxrpl"
      },
      "execution_count": 15,
      "outputs": []
    },
    {
      "cell_type": "code",
      "source": [
        "# 6. Write a generator function in Python that yields the powers of 2 up to a given exponent.\n",
        "def powers_two(max_exp):\n",
        "  for i in range(max_exp + 1):\n",
        "    yield 2 ** exp\n",
        "gen = powers_two(5)\n",
        "gen"
      ],
      "metadata": {
        "colab": {
          "base_uri": "https://localhost:8080/"
        },
        "id": "iIQortHnyPVP",
        "outputId": "8b40c1c5-7a50-47a4-af4a-4e01c9b09d71"
      },
      "execution_count": 23,
      "outputs": [
        {
          "output_type": "execute_result",
          "data": {
            "text/plain": [
              "<generator object powers_two at 0x7fd08bd94820>"
            ]
          },
          "metadata": {},
          "execution_count": 23
        }
      ]
    },
    {
      "cell_type": "code",
      "source": [
        "# 7. Implement a generator function that reads a file line by line and yields each line as a string.\n",
        "def read_line_by_line(file_path):\n",
        "  with open(file_path, 'r') as file:\n",
        "    for line in file:\n",
        "      yield line"
      ],
      "metadata": {
        "id": "pbB5SIU3zZRh"
      },
      "execution_count": 24,
      "outputs": []
    },
    {
      "cell_type": "code",
      "source": [
        "# 8. Use a lambda function in Python to sort a list of tuples based on the second element of each tuple.\n",
        "data = [(1, 5),(4, 1),(7, 9),(2, 6),(3, 8)]\n",
        "\n",
        "sorted_data = sorted(data, key = lambda x: x[1])\n",
        "\n",
        "print(\"Sorted list:\", sorted_data)"
      ],
      "metadata": {
        "colab": {
          "base_uri": "https://localhost:8080/"
        },
        "id": "BxSeqD6i0paY",
        "outputId": "d063e745-8815-42e4-c27d-c1a519c9ed9c"
      },
      "execution_count": 27,
      "outputs": [
        {
          "output_type": "stream",
          "name": "stdout",
          "text": [
            "Sorted list: [(4, 1), (1, 5), (2, 6), (3, 8), (7, 9)]\n"
          ]
        }
      ]
    },
    {
      "cell_type": "code",
      "source": [
        "# 9. Write a Python program that uses `map()` to convert a list of temperatures from Celsius to Fahrenheit.\n",
        "celsius = [0, 10, 20, 30, 40]\n",
        "\n",
        "farenheit_temps = list(map(lambda c: (c*9/5)+ 32, celsius))\n",
        "farenheit_temps"
      ],
      "metadata": {
        "colab": {
          "base_uri": "https://localhost:8080/"
        },
        "id": "VOCXR5xV1xbG",
        "outputId": "047005f5-2b19-49a9-c076-89c77def6834"
      },
      "execution_count": 30,
      "outputs": [
        {
          "output_type": "execute_result",
          "data": {
            "text/plain": [
              "[32.0, 50.0, 68.0, 86.0, 104.0]"
            ]
          },
          "metadata": {},
          "execution_count": 30
        }
      ]
    },
    {
      "cell_type": "code",
      "source": [
        "# 10. Create a Python program that uses `filter()` to remove all the vowels from a given string.\n",
        "def remove_vowels(input_str):\n",
        "  vowels = \"aeiouAEIOU\"\n",
        "  return ''.join(filter(lambda char: char not in vowels, input_str))\n",
        "\n",
        "text = \"Hello World\"\n",
        "result = remove_vowels(text)\n",
        "print(\"String without vowels: \", result)"
      ],
      "metadata": {
        "colab": {
          "base_uri": "https://localhost:8080/"
        },
        "id": "aoAKZfn814bx",
        "outputId": "d2245eb2-ef8f-423c-e915-d0b7b2b703bb"
      },
      "execution_count": 32,
      "outputs": [
        {
          "output_type": "stream",
          "name": "stdout",
          "text": [
            "String without vowels:  Hll Wrld\n"
          ]
        }
      ]
    },
    {
      "cell_type": "code",
      "source": [
        "# 11) Imagine an accounting routine used in a book shop. It works on a list with sublists, which look like this:\n",
        "#Write a Python program, which returns a list with 2-tuples. Each tuple consists of the order number and the\n",
        "#product of the price per item and the quantity. The product should be increased by 10,- € if the value of the\n",
        "#order is smaller than 100,00 €.\n",
        "#Write a Python program using lambda and map.\n",
        "\n",
        "orders = [['34587','Learning Python, Mark Lutz', 4, 40.85],\n",
        "         ['98762', 'Programming Python, Mark Lutz', 5, 56.80],\n",
        "         ['77226', 'Head First Python, Paul Barry', 3, 32.95],\n",
        "         ['88112', 'Python Cookbook, David Beazley', 3, 24.99]]\n",
        "result = list(map(lambda x: (x[0], x[2]*x[3] + 10 if x[2]*x[3] < 100 else x[2]*x[3]), orders))\n",
        "print(result)"
      ],
      "metadata": {
        "colab": {
          "base_uri": "https://localhost:8080/"
        },
        "id": "oHlH8UNJ3o87",
        "outputId": "c4ed9368-99eb-4015-a277-2b85a2b89760"
      },
      "execution_count": 33,
      "outputs": [
        {
          "output_type": "stream",
          "name": "stdout",
          "text": [
            "[('34587', 163.4), ('98762', 284.0), ('77226', 108.85000000000001), ('88112', 84.97)]\n"
          ]
        }
      ]
    }
  ]
}